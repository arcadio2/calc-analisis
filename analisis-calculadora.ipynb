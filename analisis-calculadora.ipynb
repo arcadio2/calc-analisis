{
 "cells": [
  {
   "cell_type": "markdown",
   "id": "a76ae4d4",
   "metadata": {},
   "source": [
    "# Dataset consumo de energía"
   ]
  },
  {
   "cell_type": "code",
   "execution_count": 1,
   "id": "af4686a4",
   "metadata": {},
   "outputs": [],
   "source": [
    "import pandas as pd\n",
    "from matplotlib import pyplot as plt\n",
    "import numpy as np"
   ]
  },
  {
   "cell_type": "code",
   "execution_count": 2,
   "id": "37e0e195",
   "metadata": {},
   "outputs": [],
   "source": [
    "data = pd.read_csv('dataset_huella_carbono.csv')"
   ]
  },
  {
   "cell_type": "code",
   "execution_count": 3,
   "id": "beecc08a",
   "metadata": {},
   "outputs": [
    {
     "data": {
      "text/html": [
       "<div>\n",
       "<style scoped>\n",
       "    .dataframe tbody tr th:only-of-type {\n",
       "        vertical-align: middle;\n",
       "    }\n",
       "\n",
       "    .dataframe tbody tr th {\n",
       "        vertical-align: top;\n",
       "    }\n",
       "\n",
       "    .dataframe thead th {\n",
       "        text-align: right;\n",
       "    }\n",
       "</style>\n",
       "<table border=\"1\" class=\"dataframe\">\n",
       "  <thead>\n",
       "    <tr style=\"text-align: right;\">\n",
       "      <th></th>\n",
       "      <th>cd_grupo</th>\n",
       "      <th>cd_cliente</th>\n",
       "      <th>nivel_grupo</th>\n",
       "      <th>fh_alta</th>\n",
       "      <th>fh_nacimiento</th>\n",
       "      <th>tp_sector</th>\n",
       "      <th>cd_actividad</th>\n",
       "      <th>cd_postal</th>\n",
       "      <th>cd_estado</th>\n",
       "      <th>nm_sector</th>\n",
       "      <th>recursos</th>\n",
       "      <th>credito</th>\n",
       "      <th>rentabilidad</th>\n",
       "      <th>consumo_cfe_12m</th>\n",
       "      <th>pagos_cfe_12m</th>\n",
       "    </tr>\n",
       "  </thead>\n",
       "  <tbody>\n",
       "    <tr>\n",
       "      <th>0</th>\n",
       "      <td>fcfab33979ee05bd9e35dc34261ae4b2257993e9b1d5cb...</td>\n",
       "      <td>349628717aece69de5d1fde443724d38a69b6641c8a5b0...</td>\n",
       "      <td>medio</td>\n",
       "      <td>1996-05-11</td>\n",
       "      <td>1983-06-13</td>\n",
       "      <td>M31</td>\n",
       "      <td>6.215017e+10</td>\n",
       "      <td>6080.0</td>\n",
       "      <td>DF</td>\n",
       "      <td>Retail</td>\n",
       "      <td>4.164889e+06</td>\n",
       "      <td>44286666.73</td>\n",
       "      <td>669238.166090</td>\n",
       "      <td>36301.0</td>\n",
       "      <td>7.0</td>\n",
       "    </tr>\n",
       "    <tr>\n",
       "      <th>1</th>\n",
       "      <td>fcfab33979ee05bd9e35dc34261ae4b2257993e9b1d5cb...</td>\n",
       "      <td>21a36566dfa6974ab7dda301fa1a38227b65dbbf5b6e0d...</td>\n",
       "      <td>medio</td>\n",
       "      <td>1996-05-11</td>\n",
       "      <td>1988-02-24</td>\n",
       "      <td>M31</td>\n",
       "      <td>8.415011e+10</td>\n",
       "      <td>6010.0</td>\n",
       "      <td>DF</td>\n",
       "      <td>Capital goods &amp; Industrial services</td>\n",
       "      <td>3.425179e+05</td>\n",
       "      <td>0.00</td>\n",
       "      <td>21994.617701</td>\n",
       "      <td>0.0</td>\n",
       "      <td>0.0</td>\n",
       "    </tr>\n",
       "    <tr>\n",
       "      <th>2</th>\n",
       "      <td>bf96458fe7f1c5fc09e63c0e67e959ff5b747ff68122f2...</td>\n",
       "      <td>01c064120a66e57e2020d3d1eb6e1a7399f473ef9284b2...</td>\n",
       "      <td>bajo</td>\n",
       "      <td>1996-05-11</td>\n",
       "      <td>1987-04-25</td>\n",
       "      <td>M31</td>\n",
       "      <td>8.611015e+10</td>\n",
       "      <td>6500.0</td>\n",
       "      <td>DF</td>\n",
       "      <td>Leisure &amp; Consumer Services</td>\n",
       "      <td>5.335033e+06</td>\n",
       "      <td>0.00</td>\n",
       "      <td>162952.529700</td>\n",
       "      <td>599421.0</td>\n",
       "      <td>12.0</td>\n",
       "    </tr>\n",
       "    <tr>\n",
       "      <th>3</th>\n",
       "      <td>71db9d6a633b7e05dc38a13eca34a98c9a00709cefa857...</td>\n",
       "      <td>73f9fe83634c367521a4e9a87569b5743c1266954df060...</td>\n",
       "      <td>medio</td>\n",
       "      <td>1996-05-11</td>\n",
       "      <td>1991-10-25</td>\n",
       "      <td>M31</td>\n",
       "      <td>8.421018e+10</td>\n",
       "      <td>2169.0</td>\n",
       "      <td>DF</td>\n",
       "      <td>Telecoms, Technology &amp; Media</td>\n",
       "      <td>1.303536e+06</td>\n",
       "      <td>0.00</td>\n",
       "      <td>493516.451370</td>\n",
       "      <td>0.0</td>\n",
       "      <td>0.0</td>\n",
       "    </tr>\n",
       "    <tr>\n",
       "      <th>4</th>\n",
       "      <td>5ed81cf8e173a267f0c4ae5ed22ae1e9ea90c4e2ac68f9...</td>\n",
       "      <td>0e497271afded8540489077d2b8e0db256e49c14966798...</td>\n",
       "      <td>bajo</td>\n",
       "      <td>1996-05-11</td>\n",
       "      <td>1984-12-14</td>\n",
       "      <td>M31</td>\n",
       "      <td>6.225032e+10</td>\n",
       "      <td>11560.0</td>\n",
       "      <td>DF</td>\n",
       "      <td>Retail</td>\n",
       "      <td>1.028458e+06</td>\n",
       "      <td>0.00</td>\n",
       "      <td>52559.533089</td>\n",
       "      <td>0.0</td>\n",
       "      <td>0.0</td>\n",
       "    </tr>\n",
       "  </tbody>\n",
       "</table>\n",
       "</div>"
      ],
      "text/plain": [
       "                                            cd_grupo  \\\n",
       "0  fcfab33979ee05bd9e35dc34261ae4b2257993e9b1d5cb...   \n",
       "1  fcfab33979ee05bd9e35dc34261ae4b2257993e9b1d5cb...   \n",
       "2  bf96458fe7f1c5fc09e63c0e67e959ff5b747ff68122f2...   \n",
       "3  71db9d6a633b7e05dc38a13eca34a98c9a00709cefa857...   \n",
       "4  5ed81cf8e173a267f0c4ae5ed22ae1e9ea90c4e2ac68f9...   \n",
       "\n",
       "                                          cd_cliente nivel_grupo     fh_alta  \\\n",
       "0  349628717aece69de5d1fde443724d38a69b6641c8a5b0...       medio  1996-05-11   \n",
       "1  21a36566dfa6974ab7dda301fa1a38227b65dbbf5b6e0d...       medio  1996-05-11   \n",
       "2  01c064120a66e57e2020d3d1eb6e1a7399f473ef9284b2...        bajo  1996-05-11   \n",
       "3  73f9fe83634c367521a4e9a87569b5743c1266954df060...       medio  1996-05-11   \n",
       "4  0e497271afded8540489077d2b8e0db256e49c14966798...        bajo  1996-05-11   \n",
       "\n",
       "  fh_nacimiento tp_sector  cd_actividad  cd_postal cd_estado  \\\n",
       "0    1983-06-13       M31  6.215017e+10     6080.0        DF   \n",
       "1    1988-02-24       M31  8.415011e+10     6010.0        DF   \n",
       "2    1987-04-25       M31  8.611015e+10     6500.0        DF   \n",
       "3    1991-10-25       M31  8.421018e+10     2169.0        DF   \n",
       "4    1984-12-14       M31  6.225032e+10    11560.0        DF   \n",
       "\n",
       "                             nm_sector      recursos      credito  \\\n",
       "0                               Retail  4.164889e+06  44286666.73   \n",
       "1  Capital goods & Industrial services  3.425179e+05         0.00   \n",
       "2          Leisure & Consumer Services  5.335033e+06         0.00   \n",
       "3         Telecoms, Technology & Media  1.303536e+06         0.00   \n",
       "4                               Retail  1.028458e+06         0.00   \n",
       "\n",
       "    rentabilidad  consumo_cfe_12m  pagos_cfe_12m  \n",
       "0  669238.166090          36301.0            7.0  \n",
       "1   21994.617701              0.0            0.0  \n",
       "2  162952.529700         599421.0           12.0  \n",
       "3  493516.451370              0.0            0.0  \n",
       "4   52559.533089              0.0            0.0  "
      ]
     },
     "execution_count": 3,
     "metadata": {},
     "output_type": "execute_result"
    }
   ],
   "source": [
    "data.head()"
   ]
  },
  {
   "cell_type": "code",
   "execution_count": 4,
   "id": "6dca8da7",
   "metadata": {},
   "outputs": [
    {
     "data": {
      "text/plain": [
       "(59588, 15)"
      ]
     },
     "execution_count": 4,
     "metadata": {},
     "output_type": "execute_result"
    }
   ],
   "source": [
    "data.shape"
   ]
  },
  {
   "cell_type": "code",
   "execution_count": 5,
   "id": "2a075cd7",
   "metadata": {},
   "outputs": [
    {
     "data": {
      "text/plain": [
       "12854"
      ]
     },
     "execution_count": 5,
     "metadata": {},
     "output_type": "execute_result"
    }
   ],
   "source": [
    "len(data['cd_grupo'].unique())"
   ]
  },
  {
   "cell_type": "code",
   "execution_count": 6,
   "id": "7c173049",
   "metadata": {},
   "outputs": [
    {
     "data": {
      "text/plain": [
       "array(['cd_grupo', 'cd_cliente', 'nivel_grupo', 'fh_alta',\n",
       "       'fh_nacimiento', 'tp_sector', 'cd_actividad', 'cd_postal',\n",
       "       'cd_estado', 'nm_sector', 'recursos', 'credito', 'rentabilidad',\n",
       "       'consumo_cfe_12m', 'pagos_cfe_12m'], dtype=object)"
      ]
     },
     "execution_count": 6,
     "metadata": {},
     "output_type": "execute_result"
    }
   ],
   "source": [
    "data.columns.values"
   ]
  },
  {
   "cell_type": "code",
   "execution_count": 7,
   "id": "a8f93b67",
   "metadata": {},
   "outputs": [
    {
     "data": {
      "text/plain": [
       "0    4.164889e+06\n",
       "1    3.425179e+05\n",
       "2    5.335033e+06\n",
       "3    1.303536e+06\n",
       "4    1.028458e+06\n",
       "Name: recursos, dtype: float64"
      ]
     },
     "execution_count": 7,
     "metadata": {},
     "output_type": "execute_result"
    }
   ],
   "source": [
    "data_rec = data['recursos']\n",
    "data_rec.head()"
   ]
  },
  {
   "cell_type": "code",
   "execution_count": 8,
   "id": "01a0f2ba",
   "metadata": {},
   "outputs": [
    {
     "data": {
      "text/plain": [
       "0     36301.0\n",
       "1         0.0\n",
       "2    599421.0\n",
       "3         0.0\n",
       "4         0.0\n",
       "Name: consumo_cfe_12m, dtype: float64"
      ]
     },
     "execution_count": 8,
     "metadata": {},
     "output_type": "execute_result"
    }
   ],
   "source": [
    "data_y = data['consumo_cfe_12m']\n",
    "data_y.head()"
   ]
  },
  {
   "cell_type": "code",
   "execution_count": 9,
   "id": "975643c1",
   "metadata": {},
   "outputs": [
    {
     "data": {
      "text/plain": [
       "(array([23481.,     0.,     0., 15058.,     0.,     0., 13325.,     0.,\n",
       "            0.,  7724.]),\n",
       " array([0. , 0.3, 0.6, 0.9, 1.2, 1.5, 1.8, 2.1, 2.4, 2.7, 3. ]),\n",
       " <BarContainer object of 10 artists>)"
      ]
     },
     "execution_count": 9,
     "metadata": {},
     "output_type": "execute_result"
    },
    {
     "data": {
      "image/png": "[encoded data removed]",
      "text/plain": [
       "<Figure size 432x288 with 1 Axes>"
      ]
     },
     "metadata": {
      "needs_background": "light"
     },
     "output_type": "display_data"
    }
   ],
   "source": [
    "plt.hist(data['nivel_grupo'])"
   ]
  },
  {
   "cell_type": "markdown",
   "id": "ac3f138d",
   "metadata": {},
   "source": [
    "# Matriz de correlaciones"
   ]
  },
  {
   "cell_type": "code",
   "execution_count": 10,
   "id": "a78afba0",
   "metadata": {},
   "outputs": [],
   "source": [
    "import seaborn as sns"
   ]
  },
  {
   "cell_type": "code",
   "execution_count": 11,
   "id": "06437306",
   "metadata": {},
   "outputs": [],
   "source": [
    "df_importantes = data.iloc[:,10:]"
   ]
  },
  {
   "cell_type": "code",
   "execution_count": 12,
   "id": "ac4ae628",
   "metadata": {},
   "outputs": [
    {
     "data": {
      "text/plain": [
       "array(['recursos', 'credito', 'rentabilidad', 'consumo_cfe_12m',\n",
       "       'pagos_cfe_12m'], dtype=object)"
      ]
     },
     "execution_count": 12,
     "metadata": {},
     "output_type": "execute_result"
    }
   ],
   "source": [
    "df_importantes.columns.values"
   ]
  },
  {
   "cell_type": "code",
   "execution_count": 13,
   "id": "bce4106c",
   "metadata": {},
   "outputs": [
    {
     "data": {
      "text/plain": [
       "(59588, 5)"
      ]
     },
     "execution_count": 13,
     "metadata": {},
     "output_type": "execute_result"
    }
   ],
   "source": [
    "df_importantes.shape"
   ]
  },
  {
   "cell_type": "code",
   "execution_count": 14,
   "id": "ddb9340e",
   "metadata": {},
   "outputs": [],
   "source": [
    "correlation_mat = df_importantes.corr()"
   ]
  },
  {
   "cell_type": "code",
   "execution_count": 15,
   "id": "f29153df",
   "metadata": {},
   "outputs": [
    {
     "data": {
      "text/plain": [
       "<AxesSubplot:>"
      ]
     },
     "execution_count": 15,
     "metadata": {},
     "output_type": "execute_result"
    },
    {
     "data": {
      "image/png": "[encoded data removed]",
      "text/plain": [
       "<Figure size 432x288 with 2 Axes>"
      ]
     },
     "metadata": {
      "needs_background": "light"
     },
     "output_type": "display_data"
    }
   ],
   "source": [
    "sns.heatmap(correlation_mat, annot = True)"
   ]
  },
  {
   "cell_type": "markdown",
   "id": "a2f0ed56",
   "metadata": {},
   "source": [
    "# Algunos datos interesantes sobre consumo_cfe_12m"
   ]
  },
  {
   "cell_type": "code",
   "execution_count": 16,
   "id": "bf81455a",
   "metadata": {},
   "outputs": [],
   "source": [
    "data_y.head()\n",
    "data_pagos = data.iloc[:,13:]"
   ]
  },
  {
   "cell_type": "code",
   "execution_count": 17,
   "id": "27a5e0ed",
   "metadata": {},
   "outputs": [
    {
     "data": {
      "text/html": [
       "<div>\n",
       "<style scoped>\n",
       "    .dataframe tbody tr th:only-of-type {\n",
       "        vertical-align: middle;\n",
       "    }\n",
       "\n",
       "    .dataframe tbody tr th {\n",
       "        vertical-align: top;\n",
       "    }\n",
       "\n",
       "    .dataframe thead th {\n",
       "        text-align: right;\n",
       "    }\n",
       "</style>\n",
       "<table border=\"1\" class=\"dataframe\">\n",
       "  <thead>\n",
       "    <tr style=\"text-align: right;\">\n",
       "      <th></th>\n",
       "      <th>consumo_cfe_12m</th>\n",
       "      <th>pagos_cfe_12m</th>\n",
       "    </tr>\n",
       "  </thead>\n",
       "  <tbody>\n",
       "    <tr>\n",
       "      <th>0</th>\n",
       "      <td>36301.00</td>\n",
       "      <td>7.0</td>\n",
       "    </tr>\n",
       "    <tr>\n",
       "      <th>1</th>\n",
       "      <td>0.00</td>\n",
       "      <td>0.0</td>\n",
       "    </tr>\n",
       "    <tr>\n",
       "      <th>2</th>\n",
       "      <td>599421.00</td>\n",
       "      <td>12.0</td>\n",
       "    </tr>\n",
       "    <tr>\n",
       "      <th>3</th>\n",
       "      <td>0.00</td>\n",
       "      <td>0.0</td>\n",
       "    </tr>\n",
       "    <tr>\n",
       "      <th>4</th>\n",
       "      <td>0.00</td>\n",
       "      <td>0.0</td>\n",
       "    </tr>\n",
       "    <tr>\n",
       "      <th>...</th>\n",
       "      <td>...</td>\n",
       "      <td>...</td>\n",
       "    </tr>\n",
       "    <tr>\n",
       "      <th>59583</th>\n",
       "      <td>0.00</td>\n",
       "      <td>0.0</td>\n",
       "    </tr>\n",
       "    <tr>\n",
       "      <th>59584</th>\n",
       "      <td>0.00</td>\n",
       "      <td>0.0</td>\n",
       "    </tr>\n",
       "    <tr>\n",
       "      <th>59585</th>\n",
       "      <td>0.00</td>\n",
       "      <td>0.0</td>\n",
       "    </tr>\n",
       "    <tr>\n",
       "      <th>59586</th>\n",
       "      <td>108548.14</td>\n",
       "      <td>1.0</td>\n",
       "    </tr>\n",
       "    <tr>\n",
       "      <th>59587</th>\n",
       "      <td>0.00</td>\n",
       "      <td>0.0</td>\n",
       "    </tr>\n",
       "  </tbody>\n",
       "</table>\n",
       "<p>59588 rows × 2 columns</p>\n",
       "</div>"
      ],
      "text/plain": [
       "       consumo_cfe_12m  pagos_cfe_12m\n",
       "0             36301.00            7.0\n",
       "1                 0.00            0.0\n",
       "2            599421.00           12.0\n",
       "3                 0.00            0.0\n",
       "4                 0.00            0.0\n",
       "...                ...            ...\n",
       "59583             0.00            0.0\n",
       "59584             0.00            0.0\n",
       "59585             0.00            0.0\n",
       "59586        108548.14            1.0\n",
       "59587             0.00            0.0\n",
       "\n",
       "[59588 rows x 2 columns]"
      ]
     },
     "execution_count": 17,
     "metadata": {},
     "output_type": "execute_result"
    }
   ],
   "source": [
    "data_pagos"
   ]
  },
  {
   "cell_type": "markdown",
   "id": "68393e1f",
   "metadata": {},
   "source": [
    "Promedio de consumo de energía"
   ]
  },
  {
   "cell_type": "code",
   "execution_count": 18,
   "id": "2d6175f0",
   "metadata": {},
   "outputs": [
    {
     "data": {
      "text/plain": [
       "530306.1278953819"
      ]
     },
     "execution_count": 18,
     "metadata": {},
     "output_type": "execute_result"
    }
   ],
   "source": [
    "data_pagos['consumo_cfe_12m'].mean()"
   ]
  },
  {
   "cell_type": "code",
   "execution_count": 19,
   "id": "56654758",
   "metadata": {},
   "outputs": [],
   "source": [
    "data_y_sin0 = data_pagos['consumo_cfe_12m'] > 0"
   ]
  },
  {
   "cell_type": "code",
   "execution_count": 20,
   "id": "c9713767",
   "metadata": {},
   "outputs": [],
   "source": [
    "data_y_sin0 = data_pagos[data_y_sin0]"
   ]
  },
  {
   "cell_type": "code",
   "execution_count": 21,
   "id": "d5328041",
   "metadata": {},
   "outputs": [
    {
     "data": {
      "text/plain": [
       "(13907, 2)"
      ]
     },
     "execution_count": 21,
     "metadata": {},
     "output_type": "execute_result"
    }
   ],
   "source": [
    "data_y_sin0.shape"
   ]
  },
  {
   "cell_type": "code",
   "execution_count": 22,
   "id": "5c5bfc7d",
   "metadata": {},
   "outputs": [
    {
     "data": {
      "text/html": [
       "<div>\n",
       "<style scoped>\n",
       "    .dataframe tbody tr th:only-of-type {\n",
       "        vertical-align: middle;\n",
       "    }\n",
       "\n",
       "    .dataframe tbody tr th {\n",
       "        vertical-align: top;\n",
       "    }\n",
       "\n",
       "    .dataframe thead th {\n",
       "        text-align: right;\n",
       "    }\n",
       "</style>\n",
       "<table border=\"1\" class=\"dataframe\">\n",
       "  <thead>\n",
       "    <tr style=\"text-align: right;\">\n",
       "      <th></th>\n",
       "      <th>consumo_cfe_12m</th>\n",
       "      <th>pagos_cfe_12m</th>\n",
       "    </tr>\n",
       "  </thead>\n",
       "  <tbody>\n",
       "    <tr>\n",
       "      <th>0</th>\n",
       "      <td>36301.00</td>\n",
       "      <td>7.0</td>\n",
       "    </tr>\n",
       "    <tr>\n",
       "      <th>2</th>\n",
       "      <td>599421.00</td>\n",
       "      <td>12.0</td>\n",
       "    </tr>\n",
       "    <tr>\n",
       "      <th>7</th>\n",
       "      <td>45828296.38</td>\n",
       "      <td>13.0</td>\n",
       "    </tr>\n",
       "    <tr>\n",
       "      <th>8</th>\n",
       "      <td>40689.00</td>\n",
       "      <td>7.0</td>\n",
       "    </tr>\n",
       "    <tr>\n",
       "      <th>9</th>\n",
       "      <td>11379.00</td>\n",
       "      <td>1.0</td>\n",
       "    </tr>\n",
       "    <tr>\n",
       "      <th>...</th>\n",
       "      <td>...</td>\n",
       "      <td>...</td>\n",
       "    </tr>\n",
       "    <tr>\n",
       "      <th>59063</th>\n",
       "      <td>5994.00</td>\n",
       "      <td>1.0</td>\n",
       "    </tr>\n",
       "    <tr>\n",
       "      <th>59133</th>\n",
       "      <td>269817.00</td>\n",
       "      <td>1.0</td>\n",
       "    </tr>\n",
       "    <tr>\n",
       "      <th>59210</th>\n",
       "      <td>144840.00</td>\n",
       "      <td>18.0</td>\n",
       "    </tr>\n",
       "    <tr>\n",
       "      <th>59403</th>\n",
       "      <td>3056.00</td>\n",
       "      <td>1.0</td>\n",
       "    </tr>\n",
       "    <tr>\n",
       "      <th>59586</th>\n",
       "      <td>108548.14</td>\n",
       "      <td>1.0</td>\n",
       "    </tr>\n",
       "  </tbody>\n",
       "</table>\n",
       "<p>13907 rows × 2 columns</p>\n",
       "</div>"
      ],
      "text/plain": [
       "       consumo_cfe_12m  pagos_cfe_12m\n",
       "0             36301.00            7.0\n",
       "2            599421.00           12.0\n",
       "7          45828296.38           13.0\n",
       "8             40689.00            7.0\n",
       "9             11379.00            1.0\n",
       "...                ...            ...\n",
       "59063          5994.00            1.0\n",
       "59133        269817.00            1.0\n",
       "59210        144840.00           18.0\n",
       "59403          3056.00            1.0\n",
       "59586        108548.14            1.0\n",
       "\n",
       "[13907 rows x 2 columns]"
      ]
     },
     "execution_count": 22,
     "metadata": {},
     "output_type": "execute_result"
    }
   ],
   "source": [
    "data_y_sin0"
   ]
  },
  {
   "cell_type": "markdown",
   "id": "5ad13230",
   "metadata": {},
   "source": [
    "### Promedio de los que si han pagado durante el año"
   ]
  },
  {
   "cell_type": "code",
   "execution_count": 23,
   "id": "2a84eb82",
   "metadata": {},
   "outputs": [
    {
     "data": {
      "text/plain": [
       "consumo_cfe_12m    2.272228e+06\n",
       "pagos_cfe_12m      2.768548e+01\n",
       "dtype: float64"
      ]
     },
     "execution_count": 23,
     "metadata": {},
     "output_type": "execute_result"
    }
   ],
   "source": [
    "data_y_sin0.mean()"
   ]
  },
  {
   "cell_type": "code",
   "execution_count": 24,
   "id": "3adec44a",
   "metadata": {},
   "outputs": [
    {
     "data": {
      "text/plain": [
       "consumo_cfe_12m    35.0\n",
       "pagos_cfe_12m       1.0\n",
       "dtype: float64"
      ]
     },
     "execution_count": 24,
     "metadata": {},
     "output_type": "execute_result"
    }
   ],
   "source": [
    "data_y_sin0.min()"
   ]
  },
  {
   "cell_type": "code",
   "execution_count": 25,
   "id": "6758956d",
   "metadata": {},
   "outputs": [
    {
     "data": {
      "text/plain": [
       "consumo_cfe_12m    1.552554e+09\n",
       "pagos_cfe_12m      2.986000e+03\n",
       "dtype: float64"
      ]
     },
     "execution_count": 25,
     "metadata": {},
     "output_type": "execute_result"
    }
   ],
   "source": [
    "data_y_sin0.max()"
   ]
  },
  {
   "cell_type": "code",
   "execution_count": 26,
   "id": "959c4bd3",
   "metadata": {},
   "outputs": [],
   "source": [
    "data_minimos =  data_y_sin0['consumo_cfe_12m']<1000"
   ]
  },
  {
   "cell_type": "code",
   "execution_count": 27,
   "id": "85f2a661",
   "metadata": {},
   "outputs": [],
   "source": [
    "data_minimos = data_y_sin0[data_minimos]"
   ]
  },
  {
   "cell_type": "code",
   "execution_count": 28,
   "id": "8053fdc8",
   "metadata": {},
   "outputs": [
    {
     "data": {
      "text/plain": [
       "(295, 2)"
      ]
     },
     "execution_count": 28,
     "metadata": {},
     "output_type": "execute_result"
    }
   ],
   "source": [
    "data_minimos.shape"
   ]
  },
  {
   "cell_type": "code",
   "execution_count": 29,
   "id": "9fa735ee",
   "metadata": {},
   "outputs": [
    {
     "data": {
      "text/html": [
       "<div>\n",
       "<style scoped>\n",
       "    .dataframe tbody tr th:only-of-type {\n",
       "        vertical-align: middle;\n",
       "    }\n",
       "\n",
       "    .dataframe tbody tr th {\n",
       "        vertical-align: top;\n",
       "    }\n",
       "\n",
       "    .dataframe thead th {\n",
       "        text-align: right;\n",
       "    }\n",
       "</style>\n",
       "<table border=\"1\" class=\"dataframe\">\n",
       "  <thead>\n",
       "    <tr style=\"text-align: right;\">\n",
       "      <th></th>\n",
       "      <th>consumo_cfe_12m</th>\n",
       "      <th>pagos_cfe_12m</th>\n",
       "    </tr>\n",
       "  </thead>\n",
       "  <tbody>\n",
       "    <tr>\n",
       "      <th>157</th>\n",
       "      <td>860.0</td>\n",
       "      <td>6.0</td>\n",
       "    </tr>\n",
       "    <tr>\n",
       "      <th>338</th>\n",
       "      <td>706.0</td>\n",
       "      <td>3.0</td>\n",
       "    </tr>\n",
       "    <tr>\n",
       "      <th>716</th>\n",
       "      <td>939.0</td>\n",
       "      <td>1.0</td>\n",
       "    </tr>\n",
       "    <tr>\n",
       "      <th>796</th>\n",
       "      <td>712.0</td>\n",
       "      <td>2.0</td>\n",
       "    </tr>\n",
       "    <tr>\n",
       "      <th>1260</th>\n",
       "      <td>145.0</td>\n",
       "      <td>1.0</td>\n",
       "    </tr>\n",
       "    <tr>\n",
       "      <th>...</th>\n",
       "      <td>...</td>\n",
       "      <td>...</td>\n",
       "    </tr>\n",
       "    <tr>\n",
       "      <th>57608</th>\n",
       "      <td>919.0</td>\n",
       "      <td>2.0</td>\n",
       "    </tr>\n",
       "    <tr>\n",
       "      <th>57623</th>\n",
       "      <td>728.0</td>\n",
       "      <td>1.0</td>\n",
       "    </tr>\n",
       "    <tr>\n",
       "      <th>57695</th>\n",
       "      <td>382.0</td>\n",
       "      <td>2.0</td>\n",
       "    </tr>\n",
       "    <tr>\n",
       "      <th>58068</th>\n",
       "      <td>487.0</td>\n",
       "      <td>1.0</td>\n",
       "    </tr>\n",
       "    <tr>\n",
       "      <th>58236</th>\n",
       "      <td>653.0</td>\n",
       "      <td>1.0</td>\n",
       "    </tr>\n",
       "  </tbody>\n",
       "</table>\n",
       "<p>295 rows × 2 columns</p>\n",
       "</div>"
      ],
      "text/plain": [
       "       consumo_cfe_12m  pagos_cfe_12m\n",
       "157              860.0            6.0\n",
       "338              706.0            3.0\n",
       "716              939.0            1.0\n",
       "796              712.0            2.0\n",
       "1260             145.0            1.0\n",
       "...                ...            ...\n",
       "57608            919.0            2.0\n",
       "57623            728.0            1.0\n",
       "57695            382.0            2.0\n",
       "58068            487.0            1.0\n",
       "58236            653.0            1.0\n",
       "\n",
       "[295 rows x 2 columns]"
      ]
     },
     "execution_count": 29,
     "metadata": {},
     "output_type": "execute_result"
    }
   ],
   "source": [
    "data_minimos"
   ]
  },
  {
   "cell_type": "code",
   "execution_count": 30,
   "id": "1d325313",
   "metadata": {},
   "outputs": [
    {
     "name": "stdout",
     "output_type": "stream",
     "text": [
      "['Retail' 'Capital goods & Industrial services'\n",
      " 'Leisure & Consumer Services' 'Telecoms, Technology & Media' 'Healthcare'\n",
      " 'Consumer' 'Basic Materials' nan 'Construction & Construction Materials'\n",
      " 'Transportation' 'Real Estate' 'Utilities'\n",
      " 'Autos, components & Durable goods' 'Energy (Oil & Gas)'\n",
      " 'Financial Services' 'Institutions' 'Financial Institutions']\n"
     ]
    }
   ],
   "source": [
    "print(data[\"nm_sector\"].unique())"
   ]
  },
  {
   "cell_type": "code",
   "execution_count": 31,
   "id": "2987e936",
   "metadata": {},
   "outputs": [
    {
     "data": {
      "text/html": [
       "<div>\n",
       "<style scoped>\n",
       "    .dataframe tbody tr th:only-of-type {\n",
       "        vertical-align: middle;\n",
       "    }\n",
       "\n",
       "    .dataframe tbody tr th {\n",
       "        vertical-align: top;\n",
       "    }\n",
       "\n",
       "    .dataframe thead th {\n",
       "        text-align: right;\n",
       "    }\n",
       "</style>\n",
       "<table border=\"1\" class=\"dataframe\">\n",
       "  <thead>\n",
       "    <tr style=\"text-align: right;\">\n",
       "      <th></th>\n",
       "      <th>cd_grupo</th>\n",
       "      <th>cd_cliente</th>\n",
       "      <th>nivel_grupo</th>\n",
       "      <th>fh_alta</th>\n",
       "      <th>fh_nacimiento</th>\n",
       "      <th>tp_sector</th>\n",
       "      <th>cd_actividad</th>\n",
       "      <th>cd_postal</th>\n",
       "      <th>cd_estado</th>\n",
       "      <th>nm_sector</th>\n",
       "      <th>recursos</th>\n",
       "      <th>credito</th>\n",
       "      <th>rentabilidad</th>\n",
       "      <th>consumo_cfe_12m</th>\n",
       "      <th>pagos_cfe_12m</th>\n",
       "    </tr>\n",
       "  </thead>\n",
       "  <tbody>\n",
       "    <tr>\n",
       "      <th>0</th>\n",
       "      <td>fcfab33979ee05bd9e35dc34261ae4b2257993e9b1d5cb...</td>\n",
       "      <td>349628717aece69de5d1fde443724d38a69b6641c8a5b0...</td>\n",
       "      <td>medio</td>\n",
       "      <td>1996-05-11</td>\n",
       "      <td>1983-06-13</td>\n",
       "      <td>M31</td>\n",
       "      <td>6.215017e+10</td>\n",
       "      <td>6080.0</td>\n",
       "      <td>DF</td>\n",
       "      <td>Retail</td>\n",
       "      <td>4.164889e+06</td>\n",
       "      <td>44286666.73</td>\n",
       "      <td>669238.166090</td>\n",
       "      <td>36301.0</td>\n",
       "      <td>7.0</td>\n",
       "    </tr>\n",
       "    <tr>\n",
       "      <th>1</th>\n",
       "      <td>fcfab33979ee05bd9e35dc34261ae4b2257993e9b1d5cb...</td>\n",
       "      <td>21a36566dfa6974ab7dda301fa1a38227b65dbbf5b6e0d...</td>\n",
       "      <td>medio</td>\n",
       "      <td>1996-05-11</td>\n",
       "      <td>1988-02-24</td>\n",
       "      <td>M31</td>\n",
       "      <td>8.415011e+10</td>\n",
       "      <td>6010.0</td>\n",
       "      <td>DF</td>\n",
       "      <td>Capital goods &amp; Industrial services</td>\n",
       "      <td>3.425179e+05</td>\n",
       "      <td>0.00</td>\n",
       "      <td>21994.617701</td>\n",
       "      <td>0.0</td>\n",
       "      <td>0.0</td>\n",
       "    </tr>\n",
       "    <tr>\n",
       "      <th>2</th>\n",
       "      <td>bf96458fe7f1c5fc09e63c0e67e959ff5b747ff68122f2...</td>\n",
       "      <td>01c064120a66e57e2020d3d1eb6e1a7399f473ef9284b2...</td>\n",
       "      <td>bajo</td>\n",
       "      <td>1996-05-11</td>\n",
       "      <td>1987-04-25</td>\n",
       "      <td>M31</td>\n",
       "      <td>8.611015e+10</td>\n",
       "      <td>6500.0</td>\n",
       "      <td>DF</td>\n",
       "      <td>Leisure &amp; Consumer Services</td>\n",
       "      <td>5.335033e+06</td>\n",
       "      <td>0.00</td>\n",
       "      <td>162952.529700</td>\n",
       "      <td>599421.0</td>\n",
       "      <td>12.0</td>\n",
       "    </tr>\n",
       "    <tr>\n",
       "      <th>3</th>\n",
       "      <td>71db9d6a633b7e05dc38a13eca34a98c9a00709cefa857...</td>\n",
       "      <td>73f9fe83634c367521a4e9a87569b5743c1266954df060...</td>\n",
       "      <td>medio</td>\n",
       "      <td>1996-05-11</td>\n",
       "      <td>1991-10-25</td>\n",
       "      <td>M31</td>\n",
       "      <td>8.421018e+10</td>\n",
       "      <td>2169.0</td>\n",
       "      <td>DF</td>\n",
       "      <td>Telecoms, Technology &amp; Media</td>\n",
       "      <td>1.303536e+06</td>\n",
       "      <td>0.00</td>\n",
       "      <td>493516.451370</td>\n",
       "      <td>0.0</td>\n",
       "      <td>0.0</td>\n",
       "    </tr>\n",
       "    <tr>\n",
       "      <th>4</th>\n",
       "      <td>5ed81cf8e173a267f0c4ae5ed22ae1e9ea90c4e2ac68f9...</td>\n",
       "      <td>0e497271afded8540489077d2b8e0db256e49c14966798...</td>\n",
       "      <td>bajo</td>\n",
       "      <td>1996-05-11</td>\n",
       "      <td>1984-12-14</td>\n",
       "      <td>M31</td>\n",
       "      <td>6.225032e+10</td>\n",
       "      <td>11560.0</td>\n",
       "      <td>DF</td>\n",
       "      <td>Retail</td>\n",
       "      <td>1.028458e+06</td>\n",
       "      <td>0.00</td>\n",
       "      <td>52559.533089</td>\n",
       "      <td>0.0</td>\n",
       "      <td>0.0</td>\n",
       "    </tr>\n",
       "  </tbody>\n",
       "</table>\n",
       "</div>"
      ],
      "text/plain": [
       "                                            cd_grupo  \\\n",
       "0  fcfab33979ee05bd9e35dc34261ae4b2257993e9b1d5cb...   \n",
       "1  fcfab33979ee05bd9e35dc34261ae4b2257993e9b1d5cb...   \n",
       "2  bf96458fe7f1c5fc09e63c0e67e959ff5b747ff68122f2...   \n",
       "3  71db9d6a633b7e05dc38a13eca34a98c9a00709cefa857...   \n",
       "4  5ed81cf8e173a267f0c4ae5ed22ae1e9ea90c4e2ac68f9...   \n",
       "\n",
       "                                          cd_cliente nivel_grupo     fh_alta  \\\n",
       "0  349628717aece69de5d1fde443724d38a69b6641c8a5b0...       medio  1996-05-11   \n",
       "1  21a36566dfa6974ab7dda301fa1a38227b65dbbf5b6e0d...       medio  1996-05-11   \n",
       "2  01c064120a66e57e2020d3d1eb6e1a7399f473ef9284b2...        bajo  1996-05-11   \n",
       "3  73f9fe83634c367521a4e9a87569b5743c1266954df060...       medio  1996-05-11   \n",
       "4  0e497271afded8540489077d2b8e0db256e49c14966798...        bajo  1996-05-11   \n",
       "\n",
       "  fh_nacimiento tp_sector  cd_actividad  cd_postal cd_estado  \\\n",
       "0    1983-06-13       M31  6.215017e+10     6080.0        DF   \n",
       "1    1988-02-24       M31  8.415011e+10     6010.0        DF   \n",
       "2    1987-04-25       M31  8.611015e+10     6500.0        DF   \n",
       "3    1991-10-25       M31  8.421018e+10     2169.0        DF   \n",
       "4    1984-12-14       M31  6.225032e+10    11560.0        DF   \n",
       "\n",
       "                             nm_sector      recursos      credito  \\\n",
       "0                               Retail  4.164889e+06  44286666.73   \n",
       "1  Capital goods & Industrial services  3.425179e+05         0.00   \n",
       "2          Leisure & Consumer Services  5.335033e+06         0.00   \n",
       "3         Telecoms, Technology & Media  1.303536e+06         0.00   \n",
       "4                               Retail  1.028458e+06         0.00   \n",
       "\n",
       "    rentabilidad  consumo_cfe_12m  pagos_cfe_12m  \n",
       "0  669238.166090          36301.0            7.0  \n",
       "1   21994.617701              0.0            0.0  \n",
       "2  162952.529700         599421.0           12.0  \n",
       "3  493516.451370              0.0            0.0  \n",
       "4   52559.533089              0.0            0.0  "
      ]
     },
     "execution_count": 31,
     "metadata": {},
     "output_type": "execute_result"
    }
   ],
   "source": [
    "data.head()"
   ]
  },
  {
   "cell_type": "code",
   "execution_count": 32,
   "id": "ae38aa69",
   "metadata": {},
   "outputs": [
    {
     "name": "stderr",
     "output_type": "stream",
     "text": [
      "<ipython-input-32-2539887eee15>:1: SettingWithCopyWarning: \n",
      "A value is trying to be set on a copy of a slice from a DataFrame.\n",
      "Try using .loc[row_indexer,col_indexer] = value instead\n",
      "\n",
      "See the caveats in the documentation: https://pandas.pydata.org/pandas-docs/stable/user_guide/indexing.html#returning-a-view-versus-a-copy\n",
      "  data_y_sin0['pagoxvez'] = data_y_sin0['consumo_cfe_12m'].div(data_y_sin0['pagos_cfe_12m'])\n"
     ]
    }
   ],
   "source": [
    "data_y_sin0['pagoxvez'] = data_y_sin0['consumo_cfe_12m'].div(data_y_sin0['pagos_cfe_12m'])"
   ]
  },
  {
   "cell_type": "code",
   "execution_count": 33,
   "id": "59d6ed46",
   "metadata": {},
   "outputs": [
    {
     "data": {
      "text/plain": [
       "0        5.185857e+03\n",
       "2        4.995175e+04\n",
       "7        3.525254e+06\n",
       "8        5.812714e+03\n",
       "9        1.137900e+04\n",
       "             ...     \n",
       "59063    5.994000e+03\n",
       "59133    2.698170e+05\n",
       "59210    8.046667e+03\n",
       "59403    3.056000e+03\n",
       "59586    1.085481e+05\n",
       "Name: pagoxvez, Length: 13907, dtype: float64"
      ]
     },
     "execution_count": 33,
     "metadata": {},
     "output_type": "execute_result"
    }
   ],
   "source": [
    "data_y_sin0['pagoxvez']"
   ]
  },
  {
   "cell_type": "code",
   "execution_count": 34,
   "id": "4b95d2e6",
   "metadata": {},
   "outputs": [
    {
     "data": {
      "text/plain": [
       "21532418.7416"
      ]
     },
     "execution_count": 34,
     "metadata": {},
     "output_type": "execute_result"
    }
   ],
   "source": [
    "data_y_sin0['pagoxvez'].max()"
   ]
  },
  {
   "cell_type": "code",
   "execution_count": 35,
   "id": "40b61ab5",
   "metadata": {},
   "outputs": [
    {
     "data": {
      "text/plain": [
       "25.0"
      ]
     },
     "execution_count": 35,
     "metadata": {},
     "output_type": "execute_result"
    }
   ],
   "source": [
    "data_y_sin0['pagoxvez'].min()"
   ]
  },
  {
   "cell_type": "markdown",
   "id": "8b8153bf",
   "metadata": {},
   "source": [
    "# calculo del Co2 por año"
   ]
  },
  {
   "cell_type": "code",
   "execution_count": 36,
   "id": "4bed1539",
   "metadata": {},
   "outputs": [
    {
     "name": "stderr",
     "output_type": "stream",
     "text": [
      "<ipython-input-36-4efeb801332e>:1: SettingWithCopyWarning: \n",
      "A value is trying to be set on a copy of a slice from a DataFrame.\n",
      "Try using .loc[row_indexer,col_indexer] = value instead\n",
      "\n",
      "See the caveats in the documentation: https://pandas.pydata.org/pandas-docs/stable/user_guide/indexing.html#returning-a-view-versus-a-copy\n",
      "  data_y_sin0['kW*H/año'] = (data_y_sin0['consumo_cfe_12m'] /3.07) # ($/año)/($/Kwh) /(365*24)\n"
     ]
    }
   ],
   "source": [
    "data_y_sin0['kW*H/año'] = (data_y_sin0['consumo_cfe_12m'] /3.07) # ($/año)/($/Kwh) /(365*24)"
   ]
  },
  {
   "cell_type": "code",
   "execution_count": 37,
   "id": "3a4a94be",
   "metadata": {},
   "outputs": [
    {
     "data": {
      "text/html": [
       "<div>\n",
       "<style scoped>\n",
       "    .dataframe tbody tr th:only-of-type {\n",
       "        vertical-align: middle;\n",
       "    }\n",
       "\n",
       "    .dataframe tbody tr th {\n",
       "        vertical-align: top;\n",
       "    }\n",
       "\n",
       "    .dataframe thead th {\n",
       "        text-align: right;\n",
       "    }\n",
       "</style>\n",
       "<table border=\"1\" class=\"dataframe\">\n",
       "  <thead>\n",
       "    <tr style=\"text-align: right;\">\n",
       "      <th></th>\n",
       "      <th>consumo_cfe_12m</th>\n",
       "      <th>pagos_cfe_12m</th>\n",
       "      <th>pagoxvez</th>\n",
       "      <th>kW*H/año</th>\n",
       "    </tr>\n",
       "  </thead>\n",
       "  <tbody>\n",
       "    <tr>\n",
       "      <th>0</th>\n",
       "      <td>36301.00</td>\n",
       "      <td>7.0</td>\n",
       "      <td>5.185857e+03</td>\n",
       "      <td>1.182443e+04</td>\n",
       "    </tr>\n",
       "    <tr>\n",
       "      <th>2</th>\n",
       "      <td>599421.00</td>\n",
       "      <td>12.0</td>\n",
       "      <td>4.995175e+04</td>\n",
       "      <td>1.952511e+05</td>\n",
       "    </tr>\n",
       "    <tr>\n",
       "      <th>7</th>\n",
       "      <td>45828296.38</td>\n",
       "      <td>13.0</td>\n",
       "      <td>3.525254e+06</td>\n",
       "      <td>1.492778e+07</td>\n",
       "    </tr>\n",
       "    <tr>\n",
       "      <th>8</th>\n",
       "      <td>40689.00</td>\n",
       "      <td>7.0</td>\n",
       "      <td>5.812714e+03</td>\n",
       "      <td>1.325375e+04</td>\n",
       "    </tr>\n",
       "    <tr>\n",
       "      <th>9</th>\n",
       "      <td>11379.00</td>\n",
       "      <td>1.0</td>\n",
       "      <td>1.137900e+04</td>\n",
       "      <td>3.706515e+03</td>\n",
       "    </tr>\n",
       "    <tr>\n",
       "      <th>...</th>\n",
       "      <td>...</td>\n",
       "      <td>...</td>\n",
       "      <td>...</td>\n",
       "      <td>...</td>\n",
       "    </tr>\n",
       "    <tr>\n",
       "      <th>59063</th>\n",
       "      <td>5994.00</td>\n",
       "      <td>1.0</td>\n",
       "      <td>5.994000e+03</td>\n",
       "      <td>1.952443e+03</td>\n",
       "    </tr>\n",
       "    <tr>\n",
       "      <th>59133</th>\n",
       "      <td>269817.00</td>\n",
       "      <td>1.0</td>\n",
       "      <td>2.698170e+05</td>\n",
       "      <td>8.788827e+04</td>\n",
       "    </tr>\n",
       "    <tr>\n",
       "      <th>59210</th>\n",
       "      <td>144840.00</td>\n",
       "      <td>18.0</td>\n",
       "      <td>8.046667e+03</td>\n",
       "      <td>4.717915e+04</td>\n",
       "    </tr>\n",
       "    <tr>\n",
       "      <th>59403</th>\n",
       "      <td>3056.00</td>\n",
       "      <td>1.0</td>\n",
       "      <td>3.056000e+03</td>\n",
       "      <td>9.954397e+02</td>\n",
       "    </tr>\n",
       "    <tr>\n",
       "      <th>59586</th>\n",
       "      <td>108548.14</td>\n",
       "      <td>1.0</td>\n",
       "      <td>1.085481e+05</td>\n",
       "      <td>3.535770e+04</td>\n",
       "    </tr>\n",
       "  </tbody>\n",
       "</table>\n",
       "<p>13907 rows × 4 columns</p>\n",
       "</div>"
      ],
      "text/plain": [
       "       consumo_cfe_12m  pagos_cfe_12m      pagoxvez      kW*H/año\n",
       "0             36301.00            7.0  5.185857e+03  1.182443e+04\n",
       "2            599421.00           12.0  4.995175e+04  1.952511e+05\n",
       "7          45828296.38           13.0  3.525254e+06  1.492778e+07\n",
       "8             40689.00            7.0  5.812714e+03  1.325375e+04\n",
       "9             11379.00            1.0  1.137900e+04  3.706515e+03\n",
       "...                ...            ...           ...           ...\n",
       "59063          5994.00            1.0  5.994000e+03  1.952443e+03\n",
       "59133        269817.00            1.0  2.698170e+05  8.788827e+04\n",
       "59210        144840.00           18.0  8.046667e+03  4.717915e+04\n",
       "59403          3056.00            1.0  3.056000e+03  9.954397e+02\n",
       "59586        108548.14            1.0  1.085481e+05  3.535770e+04\n",
       "\n",
       "[13907 rows x 4 columns]"
      ]
     },
     "execution_count": 37,
     "metadata": {},
     "output_type": "execute_result"
    }
   ],
   "source": [
    "data_y_sin0"
   ]
  },
  {
   "cell_type": "code",
   "execution_count": 38,
   "id": "4a46202c",
   "metadata": {},
   "outputs": [
    {
     "name": "stderr",
     "output_type": "stream",
     "text": [
      "<ipython-input-38-2f93b2df0360>:1: SettingWithCopyWarning: \n",
      "A value is trying to be set on a copy of a slice from a DataFrame.\n",
      "Try using .loc[row_indexer,col_indexer] = value instead\n",
      "\n",
      "See the caveats in the documentation: https://pandas.pydata.org/pandas-docs/stable/user_guide/indexing.html#returning-a-view-versus-a-copy\n",
      "  data_y_sin0['g Co2/año'] = data_y_sin0['kW*H/año']*181\n"
     ]
    }
   ],
   "source": [
    "data_y_sin0['g Co2/año'] = data_y_sin0['kW*H/año']*181"
   ]
  },
  {
   "cell_type": "code",
   "execution_count": 39,
   "id": "baf1692b",
   "metadata": {},
   "outputs": [
    {
     "data": {
      "text/html": [
       "<div>\n",
       "<style scoped>\n",
       "    .dataframe tbody tr th:only-of-type {\n",
       "        vertical-align: middle;\n",
       "    }\n",
       "\n",
       "    .dataframe tbody tr th {\n",
       "        vertical-align: top;\n",
       "    }\n",
       "\n",
       "    .dataframe thead th {\n",
       "        text-align: right;\n",
       "    }\n",
       "</style>\n",
       "<table border=\"1\" class=\"dataframe\">\n",
       "  <thead>\n",
       "    <tr style=\"text-align: right;\">\n",
       "      <th></th>\n",
       "      <th>consumo_cfe_12m</th>\n",
       "      <th>pagos_cfe_12m</th>\n",
       "      <th>pagoxvez</th>\n",
       "      <th>kW*H/año</th>\n",
       "      <th>g Co2/año</th>\n",
       "    </tr>\n",
       "  </thead>\n",
       "  <tbody>\n",
       "    <tr>\n",
       "      <th>0</th>\n",
       "      <td>36301.00</td>\n",
       "      <td>7.0</td>\n",
       "      <td>5.185857e+03</td>\n",
       "      <td>1.182443e+04</td>\n",
       "      <td>2.140222e+06</td>\n",
       "    </tr>\n",
       "    <tr>\n",
       "      <th>2</th>\n",
       "      <td>599421.00</td>\n",
       "      <td>12.0</td>\n",
       "      <td>4.995175e+04</td>\n",
       "      <td>1.952511e+05</td>\n",
       "      <td>3.534046e+07</td>\n",
       "    </tr>\n",
       "    <tr>\n",
       "      <th>7</th>\n",
       "      <td>45828296.38</td>\n",
       "      <td>13.0</td>\n",
       "      <td>3.525254e+06</td>\n",
       "      <td>1.492778e+07</td>\n",
       "      <td>2.701929e+09</td>\n",
       "    </tr>\n",
       "    <tr>\n",
       "      <th>8</th>\n",
       "      <td>40689.00</td>\n",
       "      <td>7.0</td>\n",
       "      <td>5.812714e+03</td>\n",
       "      <td>1.325375e+04</td>\n",
       "      <td>2.398928e+06</td>\n",
       "    </tr>\n",
       "    <tr>\n",
       "      <th>9</th>\n",
       "      <td>11379.00</td>\n",
       "      <td>1.0</td>\n",
       "      <td>1.137900e+04</td>\n",
       "      <td>3.706515e+03</td>\n",
       "      <td>6.708792e+05</td>\n",
       "    </tr>\n",
       "    <tr>\n",
       "      <th>...</th>\n",
       "      <td>...</td>\n",
       "      <td>...</td>\n",
       "      <td>...</td>\n",
       "      <td>...</td>\n",
       "      <td>...</td>\n",
       "    </tr>\n",
       "    <tr>\n",
       "      <th>59063</th>\n",
       "      <td>5994.00</td>\n",
       "      <td>1.0</td>\n",
       "      <td>5.994000e+03</td>\n",
       "      <td>1.952443e+03</td>\n",
       "      <td>3.533922e+05</td>\n",
       "    </tr>\n",
       "    <tr>\n",
       "      <th>59133</th>\n",
       "      <td>269817.00</td>\n",
       "      <td>1.0</td>\n",
       "      <td>2.698170e+05</td>\n",
       "      <td>8.788827e+04</td>\n",
       "      <td>1.590778e+07</td>\n",
       "    </tr>\n",
       "    <tr>\n",
       "      <th>59210</th>\n",
       "      <td>144840.00</td>\n",
       "      <td>18.0</td>\n",
       "      <td>8.046667e+03</td>\n",
       "      <td>4.717915e+04</td>\n",
       "      <td>8.539427e+06</td>\n",
       "    </tr>\n",
       "    <tr>\n",
       "      <th>59403</th>\n",
       "      <td>3056.00</td>\n",
       "      <td>1.0</td>\n",
       "      <td>3.056000e+03</td>\n",
       "      <td>9.954397e+02</td>\n",
       "      <td>1.801746e+05</td>\n",
       "    </tr>\n",
       "    <tr>\n",
       "      <th>59586</th>\n",
       "      <td>108548.14</td>\n",
       "      <td>1.0</td>\n",
       "      <td>1.085481e+05</td>\n",
       "      <td>3.535770e+04</td>\n",
       "      <td>6.399744e+06</td>\n",
       "    </tr>\n",
       "  </tbody>\n",
       "</table>\n",
       "<p>13907 rows × 5 columns</p>\n",
       "</div>"
      ],
      "text/plain": [
       "       consumo_cfe_12m  pagos_cfe_12m      pagoxvez      kW*H/año  \\\n",
       "0             36301.00            7.0  5.185857e+03  1.182443e+04   \n",
       "2            599421.00           12.0  4.995175e+04  1.952511e+05   \n",
       "7          45828296.38           13.0  3.525254e+06  1.492778e+07   \n",
       "8             40689.00            7.0  5.812714e+03  1.325375e+04   \n",
       "9             11379.00            1.0  1.137900e+04  3.706515e+03   \n",
       "...                ...            ...           ...           ...   \n",
       "59063          5994.00            1.0  5.994000e+03  1.952443e+03   \n",
       "59133        269817.00            1.0  2.698170e+05  8.788827e+04   \n",
       "59210        144840.00           18.0  8.046667e+03  4.717915e+04   \n",
       "59403          3056.00            1.0  3.056000e+03  9.954397e+02   \n",
       "59586        108548.14            1.0  1.085481e+05  3.535770e+04   \n",
       "\n",
       "          g Co2/año  \n",
       "0      2.140222e+06  \n",
       "2      3.534046e+07  \n",
       "7      2.701929e+09  \n",
       "8      2.398928e+06  \n",
       "9      6.708792e+05  \n",
       "...             ...  \n",
       "59063  3.533922e+05  \n",
       "59133  1.590778e+07  \n",
       "59210  8.539427e+06  \n",
       "59403  1.801746e+05  \n",
       "59586  6.399744e+06  \n",
       "\n",
       "[13907 rows x 5 columns]"
      ]
     },
     "execution_count": 39,
     "metadata": {},
     "output_type": "execute_result"
    }
   ],
   "source": [
    "data_y_sin0"
   ]
  },
  {
   "cell_type": "markdown",
   "id": "d3d2cd78",
   "metadata": {},
   "source": [
    "# Data de una unica empresa / grupo"
   ]
  },
  {
   "cell_type": "code",
   "execution_count": 40,
   "id": "3f32cd57",
   "metadata": {},
   "outputs": [],
   "source": [
    "consumo = data.groupby('cd_grupo')['consumo_cfe_12m'].sum()\n",
    "grupos = data['cd_grupo'].unique()\n",
    "data_cleaned = pd.DataFrame()\n",
    "data_cleaned['grupos'] = grupos\n",
    "data_cleaned['consumo'] = list(consumo)\n",
    " \n",
    "#df.loc[df['a'] == 1, 'b'].sum()"
   ]
  },
  {
   "cell_type": "code",
   "execution_count": 41,
   "id": "9f9111ec",
   "metadata": {},
   "outputs": [
    {
     "data": {
      "text/html": [
       "<div>\n",
       "<style scoped>\n",
       "    .dataframe tbody tr th:only-of-type {\n",
       "        vertical-align: middle;\n",
       "    }\n",
       "\n",
       "    .dataframe tbody tr th {\n",
       "        vertical-align: top;\n",
       "    }\n",
       "\n",
       "    .dataframe thead th {\n",
       "        text-align: right;\n",
       "    }\n",
       "</style>\n",
       "<table border=\"1\" class=\"dataframe\">\n",
       "  <thead>\n",
       "    <tr style=\"text-align: right;\">\n",
       "      <th></th>\n",
       "      <th>grupos</th>\n",
       "      <th>consumo</th>\n",
       "    </tr>\n",
       "  </thead>\n",
       "  <tbody>\n",
       "    <tr>\n",
       "      <th>0</th>\n",
       "      <td>fcfab33979ee05bd9e35dc34261ae4b2257993e9b1d5cb...</td>\n",
       "      <td>2.250600e+04</td>\n",
       "    </tr>\n",
       "    <tr>\n",
       "      <th>1</th>\n",
       "      <td>bf96458fe7f1c5fc09e63c0e67e959ff5b747ff68122f2...</td>\n",
       "      <td>3.643880e+06</td>\n",
       "    </tr>\n",
       "    <tr>\n",
       "      <th>2</th>\n",
       "      <td>71db9d6a633b7e05dc38a13eca34a98c9a00709cefa857...</td>\n",
       "      <td>0.000000e+00</td>\n",
       "    </tr>\n",
       "    <tr>\n",
       "      <th>3</th>\n",
       "      <td>5ed81cf8e173a267f0c4ae5ed22ae1e9ea90c4e2ac68f9...</td>\n",
       "      <td>0.000000e+00</td>\n",
       "    </tr>\n",
       "    <tr>\n",
       "      <th>4</th>\n",
       "      <td>f01c59c87e270993caeb0220b1c85dd28f44940c08861f...</td>\n",
       "      <td>0.000000e+00</td>\n",
       "    </tr>\n",
       "    <tr>\n",
       "      <th>...</th>\n",
       "      <td>...</td>\n",
       "      <td>...</td>\n",
       "    </tr>\n",
       "    <tr>\n",
       "      <th>12849</th>\n",
       "      <td>a5c6d966e004103240d605cc2974af1f1c5e28fd22fd16...</td>\n",
       "      <td>1.060685e+08</td>\n",
       "    </tr>\n",
       "    <tr>\n",
       "      <th>12850</th>\n",
       "      <td>7680535d9e414805674689c3eb413be77692a8438c9364...</td>\n",
       "      <td>0.000000e+00</td>\n",
       "    </tr>\n",
       "    <tr>\n",
       "      <th>12851</th>\n",
       "      <td>8306e661edde2c269d4e76606394aa506ab83b5dfb67e9...</td>\n",
       "      <td>8.460770e+05</td>\n",
       "    </tr>\n",
       "    <tr>\n",
       "      <th>12852</th>\n",
       "      <td>f279c9b85c1c7fa68f3bbdaa39a69ae50675ef2135e0d5...</td>\n",
       "      <td>0.000000e+00</td>\n",
       "    </tr>\n",
       "    <tr>\n",
       "      <th>12853</th>\n",
       "      <td>cb0af3570f1d090fd99ca90b5dcb4faa74816674e97cdc...</td>\n",
       "      <td>0.000000e+00</td>\n",
       "    </tr>\n",
       "  </tbody>\n",
       "</table>\n",
       "<p>12854 rows × 2 columns</p>\n",
       "</div>"
      ],
      "text/plain": [
       "                                                  grupos       consumo\n",
       "0      fcfab33979ee05bd9e35dc34261ae4b2257993e9b1d5cb...  2.250600e+04\n",
       "1      bf96458fe7f1c5fc09e63c0e67e959ff5b747ff68122f2...  3.643880e+06\n",
       "2      71db9d6a633b7e05dc38a13eca34a98c9a00709cefa857...  0.000000e+00\n",
       "3      5ed81cf8e173a267f0c4ae5ed22ae1e9ea90c4e2ac68f9...  0.000000e+00\n",
       "4      f01c59c87e270993caeb0220b1c85dd28f44940c08861f...  0.000000e+00\n",
       "...                                                  ...           ...\n",
       "12849  a5c6d966e004103240d605cc2974af1f1c5e28fd22fd16...  1.060685e+08\n",
       "12850  7680535d9e414805674689c3eb413be77692a8438c9364...  0.000000e+00\n",
       "12851  8306e661edde2c269d4e76606394aa506ab83b5dfb67e9...  8.460770e+05\n",
       "12852  f279c9b85c1c7fa68f3bbdaa39a69ae50675ef2135e0d5...  0.000000e+00\n",
       "12853  cb0af3570f1d090fd99ca90b5dcb4faa74816674e97cdc...  0.000000e+00\n",
       "\n",
       "[12854 rows x 2 columns]"
      ]
     },
     "execution_count": 41,
     "metadata": {},
     "output_type": "execute_result"
    }
   ],
   "source": [
    "data_cleaned"
   ]
  },
  {
   "cell_type": "code",
   "execution_count": 42,
   "id": "05389fef",
   "metadata": {},
   "outputs": [],
   "source": [
    "mayor_0 = data_cleaned['consumo'] > 0"
   ]
  },
  {
   "cell_type": "code",
   "execution_count": 43,
   "id": "d7a0c7ab",
   "metadata": {},
   "outputs": [],
   "source": [
    "data_cleaned = data_cleaned[mayor_0]"
   ]
  },
  {
   "cell_type": "code",
   "execution_count": 44,
   "id": "fa9a3e5f",
   "metadata": {},
   "outputs": [
    {
     "data": {
      "text/plain": [
       "(6205, 2)"
      ]
     },
     "execution_count": 44,
     "metadata": {},
     "output_type": "execute_result"
    }
   ],
   "source": [
    "data_cleaned.shape"
   ]
  },
  {
   "cell_type": "code",
   "execution_count": null,
   "id": "d5cccdfb",
   "metadata": {},
   "outputs": [],
   "source": []
  },
  {
   "cell_type": "markdown",
   "id": "73c18359",
   "metadata": {},
   "source": [
    "# Cálculo de Co2 por grupo"
   ]
  },
  {
   "cell_type": "code",
   "execution_count": 45,
   "id": "4bc8fa53",
   "metadata": {},
   "outputs": [
    {
     "name": "stderr",
     "output_type": "stream",
     "text": [
      "<ipython-input-45-2135e0ac8d1a>:1: SettingWithCopyWarning: \n",
      "A value is trying to be set on a copy of a slice from a DataFrame.\n",
      "Try using .loc[row_indexer,col_indexer] = value instead\n",
      "\n",
      "See the caveats in the documentation: https://pandas.pydata.org/pandas-docs/stable/user_guide/indexing.html#returning-a-view-versus-a-copy\n",
      "  data_cleaned['kW*H/año'] = (data_cleaned['consumo'] /3.07)\n"
     ]
    }
   ],
   "source": [
    "data_cleaned['kW*H/año'] = (data_cleaned['consumo'] /3.07)"
   ]
  },
  {
   "cell_type": "code",
   "execution_count": 46,
   "id": "536a1362",
   "metadata": {},
   "outputs": [
    {
     "data": {
      "text/html": [
       "<div>\n",
       "<style scoped>\n",
       "    .dataframe tbody tr th:only-of-type {\n",
       "        vertical-align: middle;\n",
       "    }\n",
       "\n",
       "    .dataframe tbody tr th {\n",
       "        vertical-align: top;\n",
       "    }\n",
       "\n",
       "    .dataframe thead th {\n",
       "        text-align: right;\n",
       "    }\n",
       "</style>\n",
       "<table border=\"1\" class=\"dataframe\">\n",
       "  <thead>\n",
       "    <tr style=\"text-align: right;\">\n",
       "      <th></th>\n",
       "      <th>grupos</th>\n",
       "      <th>consumo</th>\n",
       "      <th>kW*H/año</th>\n",
       "    </tr>\n",
       "  </thead>\n",
       "  <tbody>\n",
       "    <tr>\n",
       "      <th>0</th>\n",
       "      <td>fcfab33979ee05bd9e35dc34261ae4b2257993e9b1d5cb...</td>\n",
       "      <td>2.250600e+04</td>\n",
       "      <td>7.330945e+03</td>\n",
       "    </tr>\n",
       "    <tr>\n",
       "      <th>1</th>\n",
       "      <td>bf96458fe7f1c5fc09e63c0e67e959ff5b747ff68122f2...</td>\n",
       "      <td>3.643880e+06</td>\n",
       "      <td>1.186932e+06</td>\n",
       "    </tr>\n",
       "    <tr>\n",
       "      <th>5</th>\n",
       "      <td>283a83b492b83cc55406493158676b29ba46a1b4a213d7...</td>\n",
       "      <td>2.862933e+06</td>\n",
       "      <td>9.325515e+05</td>\n",
       "    </tr>\n",
       "    <tr>\n",
       "      <th>7</th>\n",
       "      <td>4e25a3c62fae225f4be90ad9845ccffe6060b095d8ef52...</td>\n",
       "      <td>1.940000e+03</td>\n",
       "      <td>6.319218e+02</td>\n",
       "    </tr>\n",
       "    <tr>\n",
       "      <th>8</th>\n",
       "      <td>1bfb5dce10cd164f1ce8407429306ea6dfb744f87a4b8a...</td>\n",
       "      <td>1.925000e+03</td>\n",
       "      <td>6.270358e+02</td>\n",
       "    </tr>\n",
       "    <tr>\n",
       "      <th>...</th>\n",
       "      <td>...</td>\n",
       "      <td>...</td>\n",
       "      <td>...</td>\n",
       "    </tr>\n",
       "    <tr>\n",
       "      <th>12845</th>\n",
       "      <td>cdc3ec748ab518d52df3401bf27d087195a3125ff19419...</td>\n",
       "      <td>9.905330e+05</td>\n",
       "      <td>3.226492e+05</td>\n",
       "    </tr>\n",
       "    <tr>\n",
       "      <th>12846</th>\n",
       "      <td>15a13b42d92a09e0f825b76b9722b07a07cefc9b116050...</td>\n",
       "      <td>3.822100e+04</td>\n",
       "      <td>1.244984e+04</td>\n",
       "    </tr>\n",
       "    <tr>\n",
       "      <th>12848</th>\n",
       "      <td>1d5b9bd908ef787544bcdd0cdd0b01d8036893d93aec1a...</td>\n",
       "      <td>2.030309e+06</td>\n",
       "      <td>6.613384e+05</td>\n",
       "    </tr>\n",
       "    <tr>\n",
       "      <th>12849</th>\n",
       "      <td>a5c6d966e004103240d605cc2974af1f1c5e28fd22fd16...</td>\n",
       "      <td>1.060685e+08</td>\n",
       "      <td>3.455001e+07</td>\n",
       "    </tr>\n",
       "    <tr>\n",
       "      <th>12851</th>\n",
       "      <td>8306e661edde2c269d4e76606394aa506ab83b5dfb67e9...</td>\n",
       "      <td>8.460770e+05</td>\n",
       "      <td>2.755951e+05</td>\n",
       "    </tr>\n",
       "  </tbody>\n",
       "</table>\n",
       "<p>6205 rows × 3 columns</p>\n",
       "</div>"
      ],
      "text/plain": [
       "                                                  grupos       consumo  \\\n",
       "0      fcfab33979ee05bd9e35dc34261ae4b2257993e9b1d5cb...  2.250600e+04   \n",
       "1      bf96458fe7f1c5fc09e63c0e67e959ff5b747ff68122f2...  3.643880e+06   \n",
       "5      283a83b492b83cc55406493158676b29ba46a1b4a213d7...  2.862933e+06   \n",
       "7      4e25a3c62fae225f4be90ad9845ccffe6060b095d8ef52...  1.940000e+03   \n",
       "8      1bfb5dce10cd164f1ce8407429306ea6dfb744f87a4b8a...  1.925000e+03   \n",
       "...                                                  ...           ...   \n",
       "12845  cdc3ec748ab518d52df3401bf27d087195a3125ff19419...  9.905330e+05   \n",
       "12846  15a13b42d92a09e0f825b76b9722b07a07cefc9b116050...  3.822100e+04   \n",
       "12848  1d5b9bd908ef787544bcdd0cdd0b01d8036893d93aec1a...  2.030309e+06   \n",
       "12849  a5c6d966e004103240d605cc2974af1f1c5e28fd22fd16...  1.060685e+08   \n",
       "12851  8306e661edde2c269d4e76606394aa506ab83b5dfb67e9...  8.460770e+05   \n",
       "\n",
       "           kW*H/año  \n",
       "0      7.330945e+03  \n",
       "1      1.186932e+06  \n",
       "5      9.325515e+05  \n",
       "7      6.319218e+02  \n",
       "8      6.270358e+02  \n",
       "...             ...  \n",
       "12845  3.226492e+05  \n",
       "12846  1.244984e+04  \n",
       "12848  6.613384e+05  \n",
       "12849  3.455001e+07  \n",
       "12851  2.755951e+05  \n",
       "\n",
       "[6205 rows x 3 columns]"
      ]
     },
     "execution_count": 46,
     "metadata": {},
     "output_type": "execute_result"
    }
   ],
   "source": [
    "data_cleaned"
   ]
  },
  {
   "cell_type": "code",
   "execution_count": 47,
   "id": "d2ebfcb9",
   "metadata": {},
   "outputs": [
    {
     "name": "stderr",
     "output_type": "stream",
     "text": [
      "<ipython-input-47-53fdbc7ee1ac>:1: SettingWithCopyWarning: \n",
      "A value is trying to be set on a copy of a slice from a DataFrame.\n",
      "Try using .loc[row_indexer,col_indexer] = value instead\n",
      "\n",
      "See the caveats in the documentation: https://pandas.pydata.org/pandas-docs/stable/user_guide/indexing.html#returning-a-view-versus-a-copy\n",
      "  data_cleaned['kg Co2/año'] = data_cleaned['kW*H/año']*0.385\n"
     ]
    }
   ],
   "source": [
    "data_cleaned['kg Co2/año'] = data_cleaned['kW*H/año']*0.385"
   ]
  },
  {
   "cell_type": "code",
   "execution_count": 48,
   "id": "fb0be582",
   "metadata": {},
   "outputs": [
    {
     "data": {
      "text/html": [
       "<div>\n",
       "<style scoped>\n",
       "    .dataframe tbody tr th:only-of-type {\n",
       "        vertical-align: middle;\n",
       "    }\n",
       "\n",
       "    .dataframe tbody tr th {\n",
       "        vertical-align: top;\n",
       "    }\n",
       "\n",
       "    .dataframe thead th {\n",
       "        text-align: right;\n",
       "    }\n",
       "</style>\n",
       "<table border=\"1\" class=\"dataframe\">\n",
       "  <thead>\n",
       "    <tr style=\"text-align: right;\">\n",
       "      <th></th>\n",
       "      <th>grupos</th>\n",
       "      <th>consumo</th>\n",
       "      <th>kW*H/año</th>\n",
       "      <th>kg Co2/año</th>\n",
       "    </tr>\n",
       "  </thead>\n",
       "  <tbody>\n",
       "    <tr>\n",
       "      <th>0</th>\n",
       "      <td>fcfab33979ee05bd9e35dc34261ae4b2257993e9b1d5cb...</td>\n",
       "      <td>2.250600e+04</td>\n",
       "      <td>7.330945e+03</td>\n",
       "      <td>2.822414e+03</td>\n",
       "    </tr>\n",
       "    <tr>\n",
       "      <th>1</th>\n",
       "      <td>bf96458fe7f1c5fc09e63c0e67e959ff5b747ff68122f2...</td>\n",
       "      <td>3.643880e+06</td>\n",
       "      <td>1.186932e+06</td>\n",
       "      <td>4.569687e+05</td>\n",
       "    </tr>\n",
       "    <tr>\n",
       "      <th>5</th>\n",
       "      <td>283a83b492b83cc55406493158676b29ba46a1b4a213d7...</td>\n",
       "      <td>2.862933e+06</td>\n",
       "      <td>9.325515e+05</td>\n",
       "      <td>3.590323e+05</td>\n",
       "    </tr>\n",
       "    <tr>\n",
       "      <th>7</th>\n",
       "      <td>4e25a3c62fae225f4be90ad9845ccffe6060b095d8ef52...</td>\n",
       "      <td>1.940000e+03</td>\n",
       "      <td>6.319218e+02</td>\n",
       "      <td>2.432899e+02</td>\n",
       "    </tr>\n",
       "    <tr>\n",
       "      <th>8</th>\n",
       "      <td>1bfb5dce10cd164f1ce8407429306ea6dfb744f87a4b8a...</td>\n",
       "      <td>1.925000e+03</td>\n",
       "      <td>6.270358e+02</td>\n",
       "      <td>2.414088e+02</td>\n",
       "    </tr>\n",
       "    <tr>\n",
       "      <th>...</th>\n",
       "      <td>...</td>\n",
       "      <td>...</td>\n",
       "      <td>...</td>\n",
       "      <td>...</td>\n",
       "    </tr>\n",
       "    <tr>\n",
       "      <th>12845</th>\n",
       "      <td>cdc3ec748ab518d52df3401bf27d087195a3125ff19419...</td>\n",
       "      <td>9.905330e+05</td>\n",
       "      <td>3.226492e+05</td>\n",
       "      <td>1.242199e+05</td>\n",
       "    </tr>\n",
       "    <tr>\n",
       "      <th>12846</th>\n",
       "      <td>15a13b42d92a09e0f825b76b9722b07a07cefc9b116050...</td>\n",
       "      <td>3.822100e+04</td>\n",
       "      <td>1.244984e+04</td>\n",
       "      <td>4.793187e+03</td>\n",
       "    </tr>\n",
       "    <tr>\n",
       "      <th>12848</th>\n",
       "      <td>1d5b9bd908ef787544bcdd0cdd0b01d8036893d93aec1a...</td>\n",
       "      <td>2.030309e+06</td>\n",
       "      <td>6.613384e+05</td>\n",
       "      <td>2.546153e+05</td>\n",
       "    </tr>\n",
       "    <tr>\n",
       "      <th>12849</th>\n",
       "      <td>a5c6d966e004103240d605cc2974af1f1c5e28fd22fd16...</td>\n",
       "      <td>1.060685e+08</td>\n",
       "      <td>3.455001e+07</td>\n",
       "      <td>1.330175e+07</td>\n",
       "    </tr>\n",
       "    <tr>\n",
       "      <th>12851</th>\n",
       "      <td>8306e661edde2c269d4e76606394aa506ab83b5dfb67e9...</td>\n",
       "      <td>8.460770e+05</td>\n",
       "      <td>2.755951e+05</td>\n",
       "      <td>1.061041e+05</td>\n",
       "    </tr>\n",
       "  </tbody>\n",
       "</table>\n",
       "<p>6205 rows × 4 columns</p>\n",
       "</div>"
      ],
      "text/plain": [
       "                                                  grupos       consumo  \\\n",
       "0      fcfab33979ee05bd9e35dc34261ae4b2257993e9b1d5cb...  2.250600e+04   \n",
       "1      bf96458fe7f1c5fc09e63c0e67e959ff5b747ff68122f2...  3.643880e+06   \n",
       "5      283a83b492b83cc55406493158676b29ba46a1b4a213d7...  2.862933e+06   \n",
       "7      4e25a3c62fae225f4be90ad9845ccffe6060b095d8ef52...  1.940000e+03   \n",
       "8      1bfb5dce10cd164f1ce8407429306ea6dfb744f87a4b8a...  1.925000e+03   \n",
       "...                                                  ...           ...   \n",
       "12845  cdc3ec748ab518d52df3401bf27d087195a3125ff19419...  9.905330e+05   \n",
       "12846  15a13b42d92a09e0f825b76b9722b07a07cefc9b116050...  3.822100e+04   \n",
       "12848  1d5b9bd908ef787544bcdd0cdd0b01d8036893d93aec1a...  2.030309e+06   \n",
       "12849  a5c6d966e004103240d605cc2974af1f1c5e28fd22fd16...  1.060685e+08   \n",
       "12851  8306e661edde2c269d4e76606394aa506ab83b5dfb67e9...  8.460770e+05   \n",
       "\n",
       "           kW*H/año    kg Co2/año  \n",
       "0      7.330945e+03  2.822414e+03  \n",
       "1      1.186932e+06  4.569687e+05  \n",
       "5      9.325515e+05  3.590323e+05  \n",
       "7      6.319218e+02  2.432899e+02  \n",
       "8      6.270358e+02  2.414088e+02  \n",
       "...             ...           ...  \n",
       "12845  3.226492e+05  1.242199e+05  \n",
       "12846  1.244984e+04  4.793187e+03  \n",
       "12848  6.613384e+05  2.546153e+05  \n",
       "12849  3.455001e+07  1.330175e+07  \n",
       "12851  2.755951e+05  1.061041e+05  \n",
       "\n",
       "[6205 rows x 4 columns]"
      ]
     },
     "execution_count": 48,
     "metadata": {},
     "output_type": "execute_result"
    }
   ],
   "source": [
    "data_cleaned"
   ]
  },
  {
   "cell_type": "code",
   "execution_count": 49,
   "id": "79eba206",
   "metadata": {},
   "outputs": [
    {
     "data": {
      "text/plain": [
       "196574916.81188923"
      ]
     },
     "execution_count": 49,
     "metadata": {},
     "output_type": "execute_result"
    }
   ],
   "source": [
    "data_cleaned['kg Co2/año'].max()"
   ]
  },
  {
   "cell_type": "code",
   "execution_count": 50,
   "id": "1cea9308",
   "metadata": {},
   "outputs": [
    {
     "data": {
      "text/plain": [
       "6.019543973941369"
      ]
     },
     "execution_count": 50,
     "metadata": {},
     "output_type": "execute_result"
    }
   ],
   "source": [
    "data_cleaned['kg Co2/año'].min()"
   ]
  },
  {
   "cell_type": "code",
   "execution_count": 51,
   "id": "535e1dd2",
   "metadata": {},
   "outputs": [
    {
     "data": {
      "text/plain": [
       "638654.5680758933"
      ]
     },
     "execution_count": 51,
     "metadata": {},
     "output_type": "execute_result"
    }
   ],
   "source": [
    "data_cleaned['kg Co2/año'].mean()"
   ]
  },
  {
   "cell_type": "code",
   "execution_count": 52,
   "id": "fb480a5f",
   "metadata": {},
   "outputs": [
    {
     "data": {
      "text/plain": [
       "[<matplotlib.lines.Line2D at 0x1c67f553160>]"
      ]
     },
     "execution_count": 52,
     "metadata": {},
     "output_type": "execute_result"
    },
    {
     "data": {
      "image/png": "[encoded data removed]",
      "text/plain": [
       "<Figure size 432x288 with 1 Axes>"
      ]
     },
     "metadata": {
      "needs_background": "light"
     },
     "output_type": "display_data"
    }
   ],
   "source": [
    "plt.plot(data_cleaned['consumo'])"
   ]
  },
  {
   "cell_type": "code",
   "execution_count": 53,
   "id": "c3c7d7e3",
   "metadata": {},
   "outputs": [],
   "source": [
    "sin_maximos = data_cleaned['consumo']<0.3e9"
   ]
  },
  {
   "cell_type": "code",
   "execution_count": 54,
   "id": "c415fabf",
   "metadata": {},
   "outputs": [],
   "source": [
    "data_cleaned = data_cleaned[sin_maximos]"
   ]
  },
  {
   "cell_type": "code",
   "execution_count": 55,
   "id": "d7e627c4",
   "metadata": {},
   "outputs": [
    {
     "data": {
      "text/html": [
       "<div>\n",
       "<style scoped>\n",
       "    .dataframe tbody tr th:only-of-type {\n",
       "        vertical-align: middle;\n",
       "    }\n",
       "\n",
       "    .dataframe tbody tr th {\n",
       "        vertical-align: top;\n",
       "    }\n",
       "\n",
       "    .dataframe thead th {\n",
       "        text-align: right;\n",
       "    }\n",
       "</style>\n",
       "<table border=\"1\" class=\"dataframe\">\n",
       "  <thead>\n",
       "    <tr style=\"text-align: right;\">\n",
       "      <th></th>\n",
       "      <th>grupos</th>\n",
       "      <th>consumo</th>\n",
       "      <th>kW*H/año</th>\n",
       "      <th>kg Co2/año</th>\n",
       "    </tr>\n",
       "  </thead>\n",
       "  <tbody>\n",
       "    <tr>\n",
       "      <th>0</th>\n",
       "      <td>fcfab33979ee05bd9e35dc34261ae4b2257993e9b1d5cb...</td>\n",
       "      <td>2.250600e+04</td>\n",
       "      <td>7.330945e+03</td>\n",
       "      <td>2.822414e+03</td>\n",
       "    </tr>\n",
       "    <tr>\n",
       "      <th>1</th>\n",
       "      <td>bf96458fe7f1c5fc09e63c0e67e959ff5b747ff68122f2...</td>\n",
       "      <td>3.643880e+06</td>\n",
       "      <td>1.186932e+06</td>\n",
       "      <td>4.569687e+05</td>\n",
       "    </tr>\n",
       "    <tr>\n",
       "      <th>5</th>\n",
       "      <td>283a83b492b83cc55406493158676b29ba46a1b4a213d7...</td>\n",
       "      <td>2.862933e+06</td>\n",
       "      <td>9.325515e+05</td>\n",
       "      <td>3.590323e+05</td>\n",
       "    </tr>\n",
       "    <tr>\n",
       "      <th>7</th>\n",
       "      <td>4e25a3c62fae225f4be90ad9845ccffe6060b095d8ef52...</td>\n",
       "      <td>1.940000e+03</td>\n",
       "      <td>6.319218e+02</td>\n",
       "      <td>2.432899e+02</td>\n",
       "    </tr>\n",
       "    <tr>\n",
       "      <th>8</th>\n",
       "      <td>1bfb5dce10cd164f1ce8407429306ea6dfb744f87a4b8a...</td>\n",
       "      <td>1.925000e+03</td>\n",
       "      <td>6.270358e+02</td>\n",
       "      <td>2.414088e+02</td>\n",
       "    </tr>\n",
       "    <tr>\n",
       "      <th>...</th>\n",
       "      <td>...</td>\n",
       "      <td>...</td>\n",
       "      <td>...</td>\n",
       "      <td>...</td>\n",
       "    </tr>\n",
       "    <tr>\n",
       "      <th>12845</th>\n",
       "      <td>cdc3ec748ab518d52df3401bf27d087195a3125ff19419...</td>\n",
       "      <td>9.905330e+05</td>\n",
       "      <td>3.226492e+05</td>\n",
       "      <td>1.242199e+05</td>\n",
       "    </tr>\n",
       "    <tr>\n",
       "      <th>12846</th>\n",
       "      <td>15a13b42d92a09e0f825b76b9722b07a07cefc9b116050...</td>\n",
       "      <td>3.822100e+04</td>\n",
       "      <td>1.244984e+04</td>\n",
       "      <td>4.793187e+03</td>\n",
       "    </tr>\n",
       "    <tr>\n",
       "      <th>12848</th>\n",
       "      <td>1d5b9bd908ef787544bcdd0cdd0b01d8036893d93aec1a...</td>\n",
       "      <td>2.030309e+06</td>\n",
       "      <td>6.613384e+05</td>\n",
       "      <td>2.546153e+05</td>\n",
       "    </tr>\n",
       "    <tr>\n",
       "      <th>12849</th>\n",
       "      <td>a5c6d966e004103240d605cc2974af1f1c5e28fd22fd16...</td>\n",
       "      <td>1.060685e+08</td>\n",
       "      <td>3.455001e+07</td>\n",
       "      <td>1.330175e+07</td>\n",
       "    </tr>\n",
       "    <tr>\n",
       "      <th>12851</th>\n",
       "      <td>8306e661edde2c269d4e76606394aa506ab83b5dfb67e9...</td>\n",
       "      <td>8.460770e+05</td>\n",
       "      <td>2.755951e+05</td>\n",
       "      <td>1.061041e+05</td>\n",
       "    </tr>\n",
       "  </tbody>\n",
       "</table>\n",
       "<p>6197 rows × 4 columns</p>\n",
       "</div>"
      ],
      "text/plain": [
       "                                                  grupos       consumo  \\\n",
       "0      fcfab33979ee05bd9e35dc34261ae4b2257993e9b1d5cb...  2.250600e+04   \n",
       "1      bf96458fe7f1c5fc09e63c0e67e959ff5b747ff68122f2...  3.643880e+06   \n",
       "5      283a83b492b83cc55406493158676b29ba46a1b4a213d7...  2.862933e+06   \n",
       "7      4e25a3c62fae225f4be90ad9845ccffe6060b095d8ef52...  1.940000e+03   \n",
       "8      1bfb5dce10cd164f1ce8407429306ea6dfb744f87a4b8a...  1.925000e+03   \n",
       "...                                                  ...           ...   \n",
       "12845  cdc3ec748ab518d52df3401bf27d087195a3125ff19419...  9.905330e+05   \n",
       "12846  15a13b42d92a09e0f825b76b9722b07a07cefc9b116050...  3.822100e+04   \n",
       "12848  1d5b9bd908ef787544bcdd0cdd0b01d8036893d93aec1a...  2.030309e+06   \n",
       "12849  a5c6d966e004103240d605cc2974af1f1c5e28fd22fd16...  1.060685e+08   \n",
       "12851  8306e661edde2c269d4e76606394aa506ab83b5dfb67e9...  8.460770e+05   \n",
       "\n",
       "           kW*H/año    kg Co2/año  \n",
       "0      7.330945e+03  2.822414e+03  \n",
       "1      1.186932e+06  4.569687e+05  \n",
       "5      9.325515e+05  3.590323e+05  \n",
       "7      6.319218e+02  2.432899e+02  \n",
       "8      6.270358e+02  2.414088e+02  \n",
       "...             ...           ...  \n",
       "12845  3.226492e+05  1.242199e+05  \n",
       "12846  1.244984e+04  4.793187e+03  \n",
       "12848  6.613384e+05  2.546153e+05  \n",
       "12849  3.455001e+07  1.330175e+07  \n",
       "12851  2.755951e+05  1.061041e+05  \n",
       "\n",
       "[6197 rows x 4 columns]"
      ]
     },
     "execution_count": 55,
     "metadata": {},
     "output_type": "execute_result"
    }
   ],
   "source": [
    "data_cleaned"
   ]
  },
  {
   "cell_type": "code",
   "execution_count": 56,
   "id": "633ad73b",
   "metadata": {},
   "outputs": [
    {
     "data": {
      "text/plain": [
       "[<matplotlib.lines.Line2D at 0x1c67f572580>]"
      ]
     },
     "execution_count": 56,
     "metadata": {},
     "output_type": "execute_result"
    },
    {
     "data": {
      "image/png": "[encoded data removed]",
      "text/plain": [
       "<Figure size 432x288 with 1 Axes>"
      ]
     },
     "metadata": {
      "needs_background": "light"
     },
     "output_type": "display_data"
    }
   ],
   "source": [
    "plt.plot(data_cleaned['consumo'])"
   ]
  },
  {
   "cell_type": "code",
   "execution_count": 57,
   "id": "dbd885af",
   "metadata": {},
   "outputs": [],
   "source": [
    "sin_minimos = data_cleaned['consumo']>1e4"
   ]
  },
  {
   "cell_type": "code",
   "execution_count": 58,
   "id": "616ad596",
   "metadata": {},
   "outputs": [],
   "source": [
    "data_cleaned = data_cleaned[sin_minimos]"
   ]
  },
  {
   "cell_type": "code",
   "execution_count": 59,
   "id": "7fc651db",
   "metadata": {},
   "outputs": [
    {
     "data": {
      "text/html": [
       "<div>\n",
       "<style scoped>\n",
       "    .dataframe tbody tr th:only-of-type {\n",
       "        vertical-align: middle;\n",
       "    }\n",
       "\n",
       "    .dataframe tbody tr th {\n",
       "        vertical-align: top;\n",
       "    }\n",
       "\n",
       "    .dataframe thead th {\n",
       "        text-align: right;\n",
       "    }\n",
       "</style>\n",
       "<table border=\"1\" class=\"dataframe\">\n",
       "  <thead>\n",
       "    <tr style=\"text-align: right;\">\n",
       "      <th></th>\n",
       "      <th>grupos</th>\n",
       "      <th>consumo</th>\n",
       "      <th>kW*H/año</th>\n",
       "      <th>kg Co2/año</th>\n",
       "    </tr>\n",
       "  </thead>\n",
       "  <tbody>\n",
       "    <tr>\n",
       "      <th>0</th>\n",
       "      <td>fcfab33979ee05bd9e35dc34261ae4b2257993e9b1d5cb...</td>\n",
       "      <td>2.250600e+04</td>\n",
       "      <td>7.330945e+03</td>\n",
       "      <td>2.822414e+03</td>\n",
       "    </tr>\n",
       "    <tr>\n",
       "      <th>1</th>\n",
       "      <td>bf96458fe7f1c5fc09e63c0e67e959ff5b747ff68122f2...</td>\n",
       "      <td>3.643880e+06</td>\n",
       "      <td>1.186932e+06</td>\n",
       "      <td>4.569687e+05</td>\n",
       "    </tr>\n",
       "    <tr>\n",
       "      <th>5</th>\n",
       "      <td>283a83b492b83cc55406493158676b29ba46a1b4a213d7...</td>\n",
       "      <td>2.862933e+06</td>\n",
       "      <td>9.325515e+05</td>\n",
       "      <td>3.590323e+05</td>\n",
       "    </tr>\n",
       "    <tr>\n",
       "      <th>9</th>\n",
       "      <td>e188a136dea43acde7d3b7e20135285e504af538a84c4c...</td>\n",
       "      <td>2.645578e+06</td>\n",
       "      <td>8.617518e+05</td>\n",
       "      <td>3.317744e+05</td>\n",
       "    </tr>\n",
       "    <tr>\n",
       "      <th>10</th>\n",
       "      <td>0bd085481c31c95e3bfdcabe7ecc86245edb7de63f2dfa...</td>\n",
       "      <td>6.553569e+06</td>\n",
       "      <td>2.134713e+06</td>\n",
       "      <td>8.218645e+05</td>\n",
       "    </tr>\n",
       "    <tr>\n",
       "      <th>...</th>\n",
       "      <td>...</td>\n",
       "      <td>...</td>\n",
       "      <td>...</td>\n",
       "      <td>...</td>\n",
       "    </tr>\n",
       "    <tr>\n",
       "      <th>12845</th>\n",
       "      <td>cdc3ec748ab518d52df3401bf27d087195a3125ff19419...</td>\n",
       "      <td>9.905330e+05</td>\n",
       "      <td>3.226492e+05</td>\n",
       "      <td>1.242199e+05</td>\n",
       "    </tr>\n",
       "    <tr>\n",
       "      <th>12846</th>\n",
       "      <td>15a13b42d92a09e0f825b76b9722b07a07cefc9b116050...</td>\n",
       "      <td>3.822100e+04</td>\n",
       "      <td>1.244984e+04</td>\n",
       "      <td>4.793187e+03</td>\n",
       "    </tr>\n",
       "    <tr>\n",
       "      <th>12848</th>\n",
       "      <td>1d5b9bd908ef787544bcdd0cdd0b01d8036893d93aec1a...</td>\n",
       "      <td>2.030309e+06</td>\n",
       "      <td>6.613384e+05</td>\n",
       "      <td>2.546153e+05</td>\n",
       "    </tr>\n",
       "    <tr>\n",
       "      <th>12849</th>\n",
       "      <td>a5c6d966e004103240d605cc2974af1f1c5e28fd22fd16...</td>\n",
       "      <td>1.060685e+08</td>\n",
       "      <td>3.455001e+07</td>\n",
       "      <td>1.330175e+07</td>\n",
       "    </tr>\n",
       "    <tr>\n",
       "      <th>12851</th>\n",
       "      <td>8306e661edde2c269d4e76606394aa506ab83b5dfb67e9...</td>\n",
       "      <td>8.460770e+05</td>\n",
       "      <td>2.755951e+05</td>\n",
       "      <td>1.061041e+05</td>\n",
       "    </tr>\n",
       "  </tbody>\n",
       "</table>\n",
       "<p>5809 rows × 4 columns</p>\n",
       "</div>"
      ],
      "text/plain": [
       "                                                  grupos       consumo  \\\n",
       "0      fcfab33979ee05bd9e35dc34261ae4b2257993e9b1d5cb...  2.250600e+04   \n",
       "1      bf96458fe7f1c5fc09e63c0e67e959ff5b747ff68122f2...  3.643880e+06   \n",
       "5      283a83b492b83cc55406493158676b29ba46a1b4a213d7...  2.862933e+06   \n",
       "9      e188a136dea43acde7d3b7e20135285e504af538a84c4c...  2.645578e+06   \n",
       "10     0bd085481c31c95e3bfdcabe7ecc86245edb7de63f2dfa...  6.553569e+06   \n",
       "...                                                  ...           ...   \n",
       "12845  cdc3ec748ab518d52df3401bf27d087195a3125ff19419...  9.905330e+05   \n",
       "12846  15a13b42d92a09e0f825b76b9722b07a07cefc9b116050...  3.822100e+04   \n",
       "12848  1d5b9bd908ef787544bcdd0cdd0b01d8036893d93aec1a...  2.030309e+06   \n",
       "12849  a5c6d966e004103240d605cc2974af1f1c5e28fd22fd16...  1.060685e+08   \n",
       "12851  8306e661edde2c269d4e76606394aa506ab83b5dfb67e9...  8.460770e+05   \n",
       "\n",
       "           kW*H/año    kg Co2/año  \n",
       "0      7.330945e+03  2.822414e+03  \n",
       "1      1.186932e+06  4.569687e+05  \n",
       "5      9.325515e+05  3.590323e+05  \n",
       "9      8.617518e+05  3.317744e+05  \n",
       "10     2.134713e+06  8.218645e+05  \n",
       "...             ...           ...  \n",
       "12845  3.226492e+05  1.242199e+05  \n",
       "12846  1.244984e+04  4.793187e+03  \n",
       "12848  6.613384e+05  2.546153e+05  \n",
       "12849  3.455001e+07  1.330175e+07  \n",
       "12851  2.755951e+05  1.061041e+05  \n",
       "\n",
       "[5809 rows x 4 columns]"
      ]
     },
     "execution_count": 59,
     "metadata": {},
     "output_type": "execute_result"
    }
   ],
   "source": [
    "data_cleaned"
   ]
  },
  {
   "cell_type": "code",
   "execution_count": 60,
   "id": "38cdff32",
   "metadata": {},
   "outputs": [
    {
     "data": {
      "text/plain": [
       "[<matplotlib.lines.Line2D at 0x1c67fc560d0>]"
      ]
     },
     "execution_count": 60,
     "metadata": {},
     "output_type": "execute_result"
    },
    {
     "data": {
      "image/png": "[encoded data removed]",
      "text/plain": [
       "<Figure size 432x288 with 1 Axes>"
      ]
     },
     "metadata": {
      "needs_background": "light"
     },
     "output_type": "display_data"
    }
   ],
   "source": [
    "plt.plot(data_cleaned['consumo'])"
   ]
  },
  {
   "cell_type": "code",
   "execution_count": 61,
   "id": "c277c021",
   "metadata": {},
   "outputs": [
    {
     "data": {
      "text/plain": [
       "10207.0"
      ]
     },
     "execution_count": 61,
     "metadata": {},
     "output_type": "execute_result"
    }
   ],
   "source": [
    "data_cleaned['consumo'].min()"
   ]
  },
  {
   "cell_type": "code",
   "execution_count": 62,
   "id": "2f9d030f",
   "metadata": {},
   "outputs": [
    {
     "data": {
      "text/plain": [
       "292872258.53999996"
      ]
     },
     "execution_count": 62,
     "metadata": {},
     "output_type": "execute_result"
    }
   ],
   "source": [
    "data_cleaned['consumo'].max()"
   ]
  },
  {
   "cell_type": "code",
   "execution_count": 63,
   "id": "464b307c",
   "metadata": {},
   "outputs": [
    {
     "data": {
      "text/plain": [
       "[<matplotlib.lines.Line2D at 0x1c67fcac910>]"
      ]
     },
     "execution_count": 63,
     "metadata": {},
     "output_type": "execute_result"
    },
    {
     "data": {
      "image/png": "[encoded data removed]",
      "text/plain": [
       "<Figure size 432x288 with 1 Axes>"
      ]
     },
     "metadata": {
      "needs_background": "light"
     },
     "output_type": "display_data"
    }
   ],
   "source": [
    "plt.plot(data_cleaned['kg Co2/año'])"
   ]
  },
  {
   "cell_type": "code",
   "execution_count": 64,
   "id": "6de73975",
   "metadata": {},
   "outputs": [
    {
     "data": {
      "text/plain": [
       "36728279.97977199"
      ]
     },
     "execution_count": 64,
     "metadata": {},
     "output_type": "execute_result"
    }
   ],
   "source": [
    "data_cleaned['kg Co2/año'].max()"
   ]
  },
  {
   "cell_type": "code",
   "execution_count": 65,
   "id": "f239d5c9",
   "metadata": {},
   "outputs": [
    {
     "data": {
      "text/plain": [
       "1280.0309446254073"
      ]
     },
     "execution_count": 65,
     "metadata": {},
     "output_type": "execute_result"
    }
   ],
   "source": [
    "data_cleaned['kg Co2/año'].min()"
   ]
  },
  {
   "cell_type": "code",
   "execution_count": 66,
   "id": "8ae11705",
   "metadata": {},
   "outputs": [],
   "source": [
    "data_cleaned.to_csv('carbono.csv', encoding='utf-8')"
   ]
  },
  {
   "cell_type": "code",
   "execution_count": 77,
   "id": "0651a9fa",
   "metadata": {},
   "outputs": [],
   "source": [
    "data_cleaned.to_csv('carbono.json', encoding='utf-8')"
   ]
  },
  {
   "cell_type": "code",
   "execution_count": 67,
   "id": "11f2fc51",
   "metadata": {},
   "outputs": [
    {
     "data": {
      "text/plain": [
       "36728.279979771985"
      ]
     },
     "execution_count": 67,
     "metadata": {},
     "output_type": "execute_result"
    }
   ],
   "source": [
    "data_cleaned['kg Co2/año'].max()/1e3"
   ]
  },
  {
   "cell_type": "code",
   "execution_count": 68,
   "id": "64ca6a32",
   "metadata": {},
   "outputs": [
    {
     "data": {
      "text/plain": [
       "513983.9224983704"
      ]
     },
     "execution_count": 68,
     "metadata": {},
     "output_type": "execute_result"
    }
   ],
   "source": [
    "data_cleaned['kg Co2/año'].mean()"
   ]
  },
  {
   "cell_type": "code",
   "execution_count": 69,
   "id": "678100a4",
   "metadata": {},
   "outputs": [
    {
     "data": {
      "text/plain": [
       "513.9839224983704"
      ]
     },
     "execution_count": 69,
     "metadata": {},
     "output_type": "execute_result"
    }
   ],
   "source": [
    "data_cleaned['kg Co2/año'].mean()/1e3"
   ]
  },
  {
   "cell_type": "code",
   "execution_count": 70,
   "id": "8d9a1662",
   "metadata": {},
   "outputs": [],
   "source": [
    "from sklearn.linear_model import LinearRegression"
   ]
  },
  {
   "cell_type": "code",
   "execution_count": 71,
   "id": "c02996cf",
   "metadata": {},
   "outputs": [],
   "source": [
    "lm = LinearRegression(fit_intercept=True, normalize=True)"
   ]
  },
  {
   "cell_type": "code",
   "execution_count": 72,
   "id": "57c8151c",
   "metadata": {},
   "outputs": [],
   "source": [
    "X_train = pd.DataFrame([1,2,3,4])\n",
    "y_train =  pd.DataFrame([202,190,226,225])"
   ]
  },
  {
   "cell_type": "code",
   "execution_count": 73,
   "id": "ec6d90b4",
   "metadata": {},
   "outputs": [
    {
     "data": {
      "text/plain": [
       "LinearRegression(normalize=True)"
      ]
     },
     "execution_count": 73,
     "metadata": {},
     "output_type": "execute_result"
    }
   ],
   "source": [
    "lm.fit(X_train, y_train)"
   ]
  },
  {
   "cell_type": "code",
   "execution_count": 74,
   "id": "c3bf23d7",
   "metadata": {},
   "outputs": [],
   "source": [
    "predict = lm.predict(pd.DataFrame([5,6,7]))"
   ]
  },
  {
   "cell_type": "code",
   "execution_count": 75,
   "id": "6727cba8",
   "metadata": {},
   "outputs": [
    {
     "data": {
      "text/plain": [
       "array([[237. ],\n",
       "       [247.5],\n",
       "       [258. ]])"
      ]
     },
     "execution_count": 75,
     "metadata": {},
     "output_type": "execute_result"
    }
   ],
   "source": [
    "predict"
   ]
  },
  {
   "cell_type": "code",
   "execution_count": 76,
   "id": "932d2c63",
   "metadata": {},
   "outputs": [
    {
     "data": {
      "text/plain": [
       "array([[10.5]])"
      ]
     },
     "execution_count": 76,
     "metadata": {},
     "output_type": "execute_result"
    }
   ],
   "source": [
    "lm.coef_"
   ]
  },
  {
   "cell_type": "code",
   "execution_count": null,
   "id": "5a95bff7",
   "metadata": {},
   "outputs": [],
   "source": []
  },
  {
   "cell_type": "code",
   "execution_count": null,
   "id": "b4f56832",
   "metadata": {},
   "outputs": [],
   "source": []
  },
  {
   "cell_type": "code",
   "execution_count": null,
   "id": "8e0b9b58",
   "metadata": {},
   "outputs": [],
   "source": []
  },
  {
   "cell_type": "code",
   "execution_count": null,
   "id": "d0194a48",
   "metadata": {},
   "outputs": [],
   "source": []
  }
 ],
 "metadata": {
  "kernelspec": {
   "display_name": "Python 3",
   "language": "python",
   "name": "python3"
  },
  "language_info": {
   "codemirror_mode": {
    "name": "ipython",
    "version": 3
   },
   "file_extension": ".py",
   "mimetype": "text/x-python",
   "name": "python",
   "nbconvert_exporter": "python",
   "pygments_lexer": "ipython3",
   "version": "3.8.8"
  }
 },
 "nbformat": 4,
 "nbformat_minor": 5
}
